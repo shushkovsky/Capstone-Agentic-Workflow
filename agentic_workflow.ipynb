{
  "cells": [
    {
      "cell_type": "raw",
      "metadata": {
        "id": "2GVbOy-I7x2F"
      },
      "source": [
        "---\n",
        "sidebar_position: 0\n",
        "---"
      ]
    },
    {
      "cell_type": "markdown",
      "metadata": {
        "id": "7qQ0PVKC7x2H"
      },
      "source": [
        "# Build a Question Answering application over a Graph Database\n",
        "\n",
        "\n",
        "## Architecture\n",
        "\n",
        "At a high-level, the steps of most graph chains are:\n",
        "\n",
        "1. **Convert question to a graph database query**: Model converts user input to a graph database query (e.g. Cypher).\n",
        "2. **Execute graph database query**: Execute the graph database query.\n",
        "3. **Answer the question**: Model responds to user input using the query results.\n"
      ]
    },
    {
      "cell_type": "code",
      "execution_count": 1,
      "metadata": {
        "id": "6uuJ8_Q67x2I"
      },
      "outputs": [
        {
          "name": "stdout",
          "output_type": "stream",
          "text": [
            "\n",
            "\u001b[1m[\u001b[0m\u001b[34;49mnotice\u001b[0m\u001b[1;39;49m]\u001b[0m\u001b[39;49m A new release of pip is available: \u001b[0m\u001b[31;49m25.0\u001b[0m\u001b[39;49m -> \u001b[0m\u001b[32;49m25.0.1\u001b[0m\n",
            "\u001b[1m[\u001b[0m\u001b[34;49mnotice\u001b[0m\u001b[1;39;49m]\u001b[0m\u001b[39;49m To update, run: \u001b[0m\u001b[32;49mpython3.10 -m pip install --upgrade pip\u001b[0m\n",
            "Note: you may need to restart the kernel to use updated packages.\n"
          ]
        }
      ],
      "source": [
        "%pip install --upgrade --quiet langchain langchain-neo4j langchain-openai langgraph python-dotenv\n"
      ]
    },
    {
      "cell_type": "markdown",
      "metadata": {
        "id": "-uqyl4Ki7x2L"
      },
      "source": [
        "## Graph schema\n",
        "\n",
        "In order for an LLM to be able to generate a Cypher statement, it needs information about the graph schema. When you instantiate a graph object, it retrieves the information about the graph schema. If you later make any changes to the graph, you can run the `refresh_schema` method to refresh the schema information."
      ]
    },
    {
      "cell_type": "markdown",
      "metadata": {
        "id": "bWmRkzXw7x2L"
      },
      "source": [
        "For more involved schema information, you can use `enhanced_schema` option."
      ]
    },
    {
      "cell_type": "code",
      "execution_count": 2,
      "metadata": {},
      "outputs": [
        {
          "name": "stderr",
          "output_type": "stream",
          "text": [
            "Received notification from DBMS server: {severity: WARNING} {code: Neo.ClientNotification.Statement.AggregationSkippedNull} {category: UNRECOGNIZED} {title: The query contains an aggregation function that skips null values.} {description: null value eliminated in set function.} {position: None} for query: 'MATCH ()-[n:`chemblDrugToTarget`]->()\\nWITH collect(distinct substring(toString(n.`datasourceId`), 0, 50)) AS `datasourceId_values`,\\n     collect(distinct substring(toString(n.`score`), 0, 50)) AS `score_values`,\\n     collect(distinct substring(toString(n.`clinicalPhase`), 0, 50)) AS `clinicalPhase_values`,\\n     collect(distinct substring(toString(n.`clinicalStatus`), 0, 50)) AS `clinicalStatus_values`,\\n     collect(distinct substring(toString(n.`studyId`), 0, 50)) AS `studyId_values`,\\n     collect(distinct substring(toString(n.`urls`), 0, 50)) AS `urls_values`,\\n     collect(distinct substring(toString(n.`variantEffect`), 0, 50)) AS `variantEffect_values`,\\n     collect(distinct substring(toString(n.`directionOnTrait`), 0, 50)) AS `directionOnTrait_values`\\nRETURN {`datasourceId`: {values:`datasourceId_values`[..10], distinct_count: size(`datasourceId_values`)}, `score`: {values:`score_values`[..10], distinct_count: size(`score_values`)}, `clinicalPhase`: {values:`clinicalPhase_values`[..10], distinct_count: size(`clinicalPhase_values`)}, `clinicalStatus`: {values:`clinicalStatus_values`[..10], distinct_count: size(`clinicalStatus_values`)}, `studyId`: {values:`studyId_values`[..10], distinct_count: size(`studyId_values`)}, `urls`: {values:`urls_values`[..10], distinct_count: size(`urls_values`)}, `variantEffect`: {values:`variantEffect_values`[..10], distinct_count: size(`variantEffect_values`)}, `directionOnTrait`: {values:`directionOnTrait_values`[..10], distinct_count: size(`directionOnTrait_values`)}} AS output'\n",
            "Received notification from DBMS server: {severity: WARNING} {code: Neo.ClientNotification.Statement.AggregationSkippedNull} {category: UNRECOGNIZED} {title: The query contains an aggregation function that skips null values.} {description: null value eliminated in set function.} {position: None} for query: 'MATCH ()-[n:`cancer_biomarkersDiseaseToTarget`]->()\\nWITH collect(distinct substring(toString(n.`datasourceId`), 0, 50)) AS `datasourceId_values`,\\n     collect(distinct substring(toString(n.`score`), 0, 50)) AS `score_values`,\\n     collect(distinct substring(toString(n.`biomarkerName`), 0, 50)) AS `biomarkerName_values`,\\n     collect(distinct substring(toString(n.`confidence`), 0, 50)) AS `confidence_values`,\\n     collect(distinct substring(toString(n.`drugResponse`), 0, 50)) AS `drugResponse_values`,\\n     collect(distinct substring(toString(n.`literature`), 0, 50)) AS `literature_values`\\nRETURN {`datasourceId`: {values:`datasourceId_values`[..10], distinct_count: size(`datasourceId_values`)}, `score`: {values:`score_values`[..10], distinct_count: size(`score_values`)}, `biomarkerName`: {values:`biomarkerName_values`[..10], distinct_count: size(`biomarkerName_values`)}, `confidence`: {values:`confidence_values`[..10], distinct_count: size(`confidence_values`)}, `drugResponse`: {values:`drugResponse_values`[..10], distinct_count: size(`drugResponse_values`)}, `literature`: {values:`literature_values`[..10], distinct_count: size(`literature_values`)}} AS output'\n",
            "Received notification from DBMS server: {severity: WARNING} {code: Neo.ClientNotification.Statement.AggregationSkippedNull} {category: UNRECOGNIZED} {title: The query contains an aggregation function that skips null values.} {description: null value eliminated in set function.} {position: None} for query: 'MATCH ()-[n:`cancer_biomarkersDrugToTarget`]->()\\nWITH collect(distinct substring(toString(n.`datasourceId`), 0, 50)) AS `datasourceId_values`,\\n     collect(distinct substring(toString(n.`score`), 0, 50)) AS `score_values`,\\n     collect(distinct substring(toString(n.`literature`), 0, 50)) AS `literature_values`,\\n     collect(distinct substring(toString(n.`biomarkerName`), 0, 50)) AS `biomarkerName_values`,\\n     collect(distinct substring(toString(n.`confidence`), 0, 50)) AS `confidence_values`,\\n     collect(distinct substring(toString(n.`drugResponse`), 0, 50)) AS `drugResponse_values`\\nRETURN {`datasourceId`: {values:`datasourceId_values`[..10], distinct_count: size(`datasourceId_values`)}, `score`: {values:`score_values`[..10], distinct_count: size(`score_values`)}, `literature`: {values:`literature_values`[..10], distinct_count: size(`literature_values`)}, `biomarkerName`: {values:`biomarkerName_values`[..10], distinct_count: size(`biomarkerName_values`)}, `confidence`: {values:`confidence_values`[..10], distinct_count: size(`confidence_values`)}, `drugResponse`: {values:`drugResponse_values`[..10], distinct_count: size(`drugResponse_values`)}} AS output'\n",
            "Received notification from DBMS server: {severity: WARNING} {code: Neo.ClientNotification.Statement.AggregationSkippedNull} {category: UNRECOGNIZED} {title: The query contains an aggregation function that skips null values.} {description: null value eliminated in set function.} {position: None} for query: 'MATCH ()-[n:`chemblDrugToTarget`]->()\\nWITH collect(distinct substring(toString(n.`datasourceId`), 0, 50)) AS `datasourceId_values`,\\n     collect(distinct substring(toString(n.`score`), 0, 50)) AS `score_values`,\\n     collect(distinct substring(toString(n.`clinicalPhase`), 0, 50)) AS `clinicalPhase_values`,\\n     collect(distinct substring(toString(n.`urls`), 0, 50)) AS `urls_values`,\\n     collect(distinct substring(toString(n.`variantEffect`), 0, 50)) AS `variantEffect_values`,\\n     collect(distinct substring(toString(n.`directionOnTrait`), 0, 50)) AS `directionOnTrait_values`,\\n     collect(distinct substring(toString(n.`clinicalStatus`), 0, 50)) AS `clinicalStatus_values`,\\n     collect(distinct substring(toString(n.`studyId`), 0, 50)) AS `studyId_values`\\nRETURN {`datasourceId`: {values:`datasourceId_values`[..10], distinct_count: size(`datasourceId_values`)}, `score`: {values:`score_values`[..10], distinct_count: size(`score_values`)}, `clinicalPhase`: {values:`clinicalPhase_values`[..10], distinct_count: size(`clinicalPhase_values`)}, `urls`: {values:`urls_values`[..10], distinct_count: size(`urls_values`)}, `variantEffect`: {values:`variantEffect_values`[..10], distinct_count: size(`variantEffect_values`)}, `directionOnTrait`: {values:`directionOnTrait_values`[..10], distinct_count: size(`directionOnTrait_values`)}, `clinicalStatus`: {values:`clinicalStatus_values`[..10], distinct_count: size(`clinicalStatus_values`)}, `studyId`: {values:`studyId_values`[..10], distinct_count: size(`studyId_values`)}} AS output'\n",
            "Received notification from DBMS server: {severity: WARNING} {code: Neo.ClientNotification.Statement.AggregationSkippedNull} {category: UNRECOGNIZED} {title: The query contains an aggregation function that skips null values.} {description: null value eliminated in set function.} {position: None} for query: 'MATCH ()-[n:`cancer_biomarkersDiseaseToTarget`]->()\\nWITH collect(distinct substring(toString(n.`datasourceId`), 0, 50)) AS `datasourceId_values`,\\n     collect(distinct substring(toString(n.`score`), 0, 50)) AS `score_values`,\\n     collect(distinct substring(toString(n.`biomarkerName`), 0, 50)) AS `biomarkerName_values`,\\n     collect(distinct substring(toString(n.`confidence`), 0, 50)) AS `confidence_values`,\\n     collect(distinct substring(toString(n.`drugResponse`), 0, 50)) AS `drugResponse_values`,\\n     collect(distinct substring(toString(n.`literature`), 0, 50)) AS `literature_values`\\nRETURN {`datasourceId`: {values:`datasourceId_values`[..10], distinct_count: size(`datasourceId_values`)}, `score`: {values:`score_values`[..10], distinct_count: size(`score_values`)}, `biomarkerName`: {values:`biomarkerName_values`[..10], distinct_count: size(`biomarkerName_values`)}, `confidence`: {values:`confidence_values`[..10], distinct_count: size(`confidence_values`)}, `drugResponse`: {values:`drugResponse_values`[..10], distinct_count: size(`drugResponse_values`)}, `literature`: {values:`literature_values`[..10], distinct_count: size(`literature_values`)}} AS output'\n",
            "Received notification from DBMS server: {severity: WARNING} {code: Neo.ClientNotification.Statement.AggregationSkippedNull} {category: UNRECOGNIZED} {title: The query contains an aggregation function that skips null values.} {description: null value eliminated in set function.} {position: None} for query: 'MATCH ()-[n:`cancer_biomarkersDrugToTarget`]->()\\nWITH collect(distinct substring(toString(n.`datasourceId`), 0, 50)) AS `datasourceId_values`,\\n     collect(distinct substring(toString(n.`score`), 0, 50)) AS `score_values`,\\n     collect(distinct substring(toString(n.`literature`), 0, 50)) AS `literature_values`,\\n     collect(distinct substring(toString(n.`biomarkerName`), 0, 50)) AS `biomarkerName_values`,\\n     collect(distinct substring(toString(n.`confidence`), 0, 50)) AS `confidence_values`,\\n     collect(distinct substring(toString(n.`drugResponse`), 0, 50)) AS `drugResponse_values`\\nRETURN {`datasourceId`: {values:`datasourceId_values`[..10], distinct_count: size(`datasourceId_values`)}, `score`: {values:`score_values`[..10], distinct_count: size(`score_values`)}, `literature`: {values:`literature_values`[..10], distinct_count: size(`literature_values`)}, `biomarkerName`: {values:`biomarkerName_values`[..10], distinct_count: size(`biomarkerName_values`)}, `confidence`: {values:`confidence_values`[..10], distinct_count: size(`confidence_values`)}, `drugResponse`: {values:`drugResponse_values`[..10], distinct_count: size(`drugResponse_values`)}} AS output'\n"
          ]
        },
        {
          "name": "stdout",
          "output_type": "stream",
          "text": [
            "Node properties:\n",
            "- **DISEASE**\n",
            "  - `Disease_ID`: STRING Example: \"EFO_0010730\"\n",
            "  - `Name`: STRING Example: \"response to bezlotoxumab\"\n",
            "  - `Description`: STRING Example: \"Any process that results in a change in state or a\"\n",
            "- **MOLECULE**\n",
            "  - `CHEMBL_ID`: STRING Example: \"CHEMBL2316141\"\n",
            "  - `Name`: STRING Example: \"CHEMBL2316141\"\n",
            "  - `Synonym_Names`: STRING Example: \"[]\"\n",
            "  - `Cross_Reference_Names`: STRING Example: \"[]\"\n",
            "  - `Canonical_Smiles`: STRING Example: \"COc1cc(/C=C2\\CCC/C(=C\\c3cccc(Cl)c3)C2=O)cc(OC)c1\"\n",
            "  - `Drug_Type`: STRING Example: \"Small molecule\"\n",
            "  - `Description`: STRING Example: \"Small molecule drug.\"\n",
            "  - `Max_Clinicial_Trial_Phase`: STRING \n",
            "  - `is_Approved`: STRING \n",
            "  - `Embedding_Source`: STRING Example: \"yes\"\n",
            "- **TARGET**\n",
            "  - `Target_ID`: STRING Example: \"ENSG00000007202\"\n",
            "  - `Name`: STRING Example: \"bridge-like lipid transfer protein family member 2\"\n",
            "  - `Symbol`: STRING Example: \"BLTP2\"\n",
            "  - `Biological_Type`: STRING Example: \"protein_coding\"\n",
            "Relationship properties:\n",
            "- **chemblDrugToTarget**\n",
            "  - `datasourceId`: STRING Available options: ['chembl']\n",
            "  - `score`: STRING Available options: ['1.0']\n",
            "  - `clinicalPhase`: STRING Available options: ['4.0']\n",
            "  - `urls`: STRING Example: \"['https://dailymed.nlm.nih.gov/dailymed/drugInfo.c\"\n",
            "  - `variantEffect`: STRING Available options: ['LoF', 'GoF']\n",
            "  - `directionOnTrait`: STRING Available options: ['protect']\n",
            "  - `clinicalStatus`: STRING Available options: ['Recruiting', 'Completed', 'Withdrawn', 'Unknown status', 'Active, not recruiting', 'Not yet recruiting', 'Enrolling by invitation', 'Terminated', 'Suspended']\n",
            "  - `studyId`: STRING Example: \"NCT03490487\"\n",
            "- **Known_Molecule_Link_To_Disease**\n",
            "  - `score`: STRING Example: \"1.0\"\n",
            "- **Known_Molecule_Link_To_Target**\n",
            "  - `score`: STRING Available options: ['1.0']\n",
            "- **cancer_biomarkersDrugToTarget**\n",
            "  - `datasourceId`: STRING Available options: ['cancer_biomarkers']\n",
            "  - `score`: STRING Available options: ['1.0']\n",
            "  - `literature`: STRING Example: \"['24882673']\"\n",
            "  - `biomarkerName`: STRING Example: \"CYP17A1 expression\"\n",
            "  - `confidence`: STRING Available options: ['Early trials', 'Case report', 'Pre-clinical', 'FDA guidelines', 'Case Report', 'Late trials', 'NCCN guidelines', 'CPIC guidelines', 'European LeukemiaNet guidelines']\n",
            "  - `drugResponse`: STRING Available options: ['GO_0042493', 'EFO_0020001', 'EFO_0006951', 'EFO_0007053', 'EFO_0020002', 'EFO_0020003', 'EFO_0005558', 'HP_0002904']\n",
            "- **chemblDiseaseToTarget**\n",
            "  - `datasourceId`: STRING Example: \"chembl\"\n",
            "  - `score`: STRING Example: \"0.2\"\n",
            "  - `clinicalPhase`: STRING Example: \"2.0\"\n",
            "  - `clinicalStatus`: STRING Example: \"Completed\"\n",
            "  - `studyId`: STRING Example: \"NCT00192088\"\n",
            "  - `urls`: STRING Example: \"['https://clinicaltrials.gov/study/NCT00192088']\"\n",
            "  - `variantEffect`: STRING Example: \"LoF\"\n",
            "  - `directionOnTrait`: STRING Example: \"protect\"\n",
            "- **cancer_biomarkersDiseaseToTarget**\n",
            "  - `datasourceId`: STRING Available options: ['cancer_biomarkers']\n",
            "  - `score`: STRING Available options: ['1.0']\n",
            "  - `biomarkerName`: STRING Example: \"BTK (C481S)\"\n",
            "  - `confidence`: STRING Available options: ['Early trials', 'Pre-clinical', 'Case report', 'Case Report', 'Early Trials', 'FDA guidelines', 'Late trials', 'NCCN guidelines', 'Clinical trials']\n",
            "  - `drugResponse`: STRING Available options: ['EFO_0020001', 'GO_0042493', 'EFO_0020002', 'EFO_0007053', 'EFO_0005558', 'EFO_0020003', 'HP_0002904']\n",
            "  - `literature`: STRING Example: \"['27199251', '24869598']\"\n",
            "The relationships:\n",
            "(:DISEASE)-[:chemblDiseaseToTarget]->(:TARGET)\n",
            "(:DISEASE)-[:cancer_biomarkersDiseaseToTarget]->(:TARGET)\n",
            "(:MOLECULE)-[:Known_Molecule_Link_To_Disease]->(:DISEASE)\n",
            "(:MOLECULE)-[:chemblDrugToTarget]->(:TARGET)\n",
            "(:MOLECULE)-[:Known_Molecule_Link_To_Target]->(:TARGET)\n",
            "(:MOLECULE)-[:cancer_biomarkersDrugToTarget]->(:TARGET)\n"
          ]
        }
      ],
      "source": [
        "import getpass\n",
        "import os\n",
        "from dotenv import load_dotenv\n",
        "from langchain_neo4j import Neo4jGraph\n",
        "\n",
        "enhanced_graph = Neo4jGraph(\n",
        "    url=os.getenv(\"NEO4J_URI\"),\n",
        "    username=os.getenv(\"NEO4J_USERNAME\"),\n",
        "    password=os.getenv(\"NEO4J_PASSWORD\"),\n",
        "    enhanced_schema=True\n",
        ")\n",
        "enhanced_graph.refresh_schema()\n",
        "print(enhanced_graph.schema)"
      ]
    },
    {
      "cell_type": "markdown",
      "metadata": {
        "id": "sMTwtWMI7x2M"
      },
      "source": [
        "## Advanced implementation with LangGraph\n",
        "\n",
        "While the GraphCypherQAChain is effective for quick demonstrations, it may face challenges in production environments. Transitioning to LangGraph can enhance the workflow, but implementing natural language to query flows in production remains a complex task. Nevertheless, there are several strategies to significantly improve accuracy and reliability, which we will explore next.\n",
        "\n",
        "Here is the visualized LangGraph flow we will implement:\n",
        "\n",
        "![langgraph_text2cypher](https://github.com/langchain-ai/langchain/blob/master/docs/static/img/langgraph_text2cypher.webp?raw=1)\n"
      ]
    },
    {
      "cell_type": "code",
      "execution_count": 3,
      "metadata": {},
      "outputs": [],
      "source": [
        "from langchain_openai import ChatOpenAI\n",
        "\n",
        "llm = ChatOpenAI(model=\"gpt-4o\", temperature=0)\n"
      ]
    },
    {
      "cell_type": "markdown",
      "metadata": {
        "id": "mUl5AS6h7x2M"
      },
      "source": [
        "We will begin by defining the Input, Output, and Overall state of the LangGraph application."
      ]
    },
    {
      "cell_type": "code",
      "execution_count": 4,
      "metadata": {
        "id": "58uS9GVC7x2N"
      },
      "outputs": [],
      "source": [
        "from operator import add\n",
        "from typing import Annotated, List\n",
        "\n",
        "from typing_extensions import TypedDict\n",
        "\n",
        "\n",
        "class InputState(TypedDict):\n",
        "    question: str\n",
        "\n",
        "\n",
        "class OverallState(TypedDict):\n",
        "    question: str\n",
        "    next_action: str\n",
        "    cypher_statement: str\n",
        "    cypher_errors: List[str]\n",
        "    database_records: List[dict]\n",
        "    steps: Annotated[List[str], add]\n",
        "\n",
        "\n",
        "class OutputState(TypedDict):\n",
        "    answer: str\n",
        "    steps: List[str]\n",
        "    cypher_statement: str"
      ]
    },
    {
      "cell_type": "markdown",
      "metadata": {
        "id": "18S8Uvta7x2N"
      },
      "source": [
        "The first step is a simple `guardrails` step, where we validate whether the question pertains to genes, drugs, or targets. If it doesn't, we notify the user that we cannot answer any other questions. Otherwise, we move on to the Cypher generation step."
      ]
    },
    {
      "cell_type": "code",
      "execution_count": 5,
      "metadata": {
        "id": "pm9iT4Ag7x2N"
      },
      "outputs": [],
      "source": [
        "from typing import Literal\n",
        "\n",
        "from langchain_core.prompts import ChatPromptTemplate\n",
        "from pydantic import BaseModel, Field\n",
        "\n",
        "guardrails_system = \"\"\"\n",
        "As an intelligent assistant, your primary objective is to decide whether a given question is related to genes, drugs, and their targets.\n",
        "If the question is related to genes, drugs, and their targets, output \"drug\". Otherwise, output \"end\".\n",
        "To make this decision, assess the content of the question and determine if it refers to any genes, drugs, targets,\n",
        "or related topics. Provide only the specified output: \"drug\" or \"end\".\n",
        "\"\"\"\n",
        "guardrails_prompt = ChatPromptTemplate.from_messages(\n",
        "    [\n",
        "        (\n",
        "            \"system\",\n",
        "            guardrails_system,\n",
        "        ),\n",
        "        (\n",
        "            \"human\",\n",
        "            (\"{question}\"),\n",
        "        ),\n",
        "    ]\n",
        ")\n",
        "\n",
        "\n",
        "class GuardrailsOutput(BaseModel):\n",
        "    decision: Literal[\"drug\", \"end\"] = Field(\n",
        "        description=\"Decision on whether the question is related to genes, drugs, and their targets\"\n",
        "    )\n",
        "\n",
        "\n",
        "guardrails_chain = guardrails_prompt | llm.with_structured_output(GuardrailsOutput)\n",
        "\n",
        "\n",
        "def guardrails(state: InputState) -> OverallState:\n",
        "    \"\"\"\n",
        "    Decides if the question is related to genes, drugs, and their targets or not.\n",
        "    \"\"\"\n",
        "    guardrails_output = guardrails_chain.invoke({\"question\": state.get(\"question\")})\n",
        "    database_records = None\n",
        "    if guardrails_output.decision == \"end\":\n",
        "        database_records = \"This questions is not about genes, drugs, and their targets. Therefore I cannot answer this question.\"\n",
        "    return {\n",
        "        \"next_action\": guardrails_output.decision,\n",
        "        \"database_records\": database_records,\n",
        "        \"steps\": [\"guardrail\"],\n",
        "    }"
      ]
    },
    {
      "cell_type": "markdown",
      "metadata": {
        "id": "g1MPJQKd7x2N"
      },
      "source": [
        "### Few-shot prompting"
      ]
    },
    {
      "cell_type": "markdown",
      "metadata": {
        "id": "QpCHtobV7x2N"
      },
      "source": [
        "Converting natural language into accurate queries is challenging. One way to enhance this process is by providing relevant few-shot examples to guide the LLM in query generation. To achieve this, we will use the `SemanticSimilarityExampleSelector` to dynamically select the most relevant examples."
      ]
    },
    {
      "cell_type": "code",
      "execution_count": 29,
      "metadata": {
        "id": "HWAWrbGy7x2N"
      },
      "outputs": [],
      "source": [
        "# from langchain_core.example_selectors import SemanticSimilarityExampleSelector\n",
        "# from langchain_neo4j import Neo4jVector\n",
        "# from langchain_openai import OpenAIEmbeddings\n",
        "# import json \n",
        "# examples = [\n",
        "#     {\n",
        "#         \"question\": \"How many artists are there?\",\n",
        "#         \"query\": \"MATCH (a:Person)-[:ACTED_IN]->(:Movie) RETURN count(DISTINCT a)\",\n",
        "#     },\n",
        "#     {\n",
        "#         \"question\": \"Which actors played in the movie Casino?\",\n",
        "#         \"query\": \"MATCH (m:Movie {title: 'Casino'})<-[:ACTED_IN]-(a) RETURN a.name\",\n",
        "#     },\n",
        "#     {\n",
        "#         \"question\": \"How many movies has Tom Hanks acted in?\",\n",
        "#         \"query\": \"MATCH (a:Person {name: 'Tom Hanks'})-[:ACTED_IN]->(m:Movie) RETURN count(m)\",\n",
        "#     },\n",
        "#     {\n",
        "#         \"question\": \"List all the genres of the movie Schindler's List\",\n",
        "#         \"query\": \"MATCH (m:Movie {title: 'Schindler's List'})-[:IN_GENRE]->(g:Genre) RETURN g.name\",\n",
        "#     },\n",
        "#     {\n",
        "#         \"question\": \"Which actors have worked in movies from both the comedy and action genres?\",\n",
        "#         \"query\": \"MATCH (a:Person)-[:ACTED_IN]->(:Movie)-[:IN_GENRE]->(g1:Genre), (a)-[:ACTED_IN]->(:Movie)-[:IN_GENRE]->(g2:Genre) WHERE g1.name = 'Comedy' AND g2.name = 'Action' RETURN DISTINCT a.name\",\n",
        "#     },\n",
        "#     {\n",
        "#         \"question\": \"Which directors have made movies with at least three different actors named 'John'?\",\n",
        "#         \"query\": \"MATCH (d:Person)-[:DIRECTED]->(m:Movie)<-[:ACTED_IN]-(a:Person) WHERE a.name STARTS WITH 'John' WITH d, COUNT(DISTINCT a) AS JohnsCount WHERE JohnsCount >= 3 RETURN d.name\",\n",
        "#     },\n",
        "#     {\n",
        "#         \"question\": \"Identify movies where directors also played a role in the film.\",\n",
        "#         \"query\": \"MATCH (p:Person)-[:DIRECTED]->(m:Movie), (p)-[:ACTED_IN]->(m) RETURN m.title, p.name\",\n",
        "#     },\n",
        "#     {\n",
        "#         \"question\": \"Find the actor with the highest number of movies in the database.\",\n",
        "#         \"query\": \"MATCH (a:Actor)-[:ACTED_IN]->(m:Movie) RETURN a.name, COUNT(m) AS movieCount ORDER BY movieCount DESC LIMIT 1\",\n",
        "#     },\n",
        "# ]\n",
        "\n",
        "# example_selector = SemanticSimilarityExampleSelector.from_examples(\n",
        "#     examples, OpenAIEmbeddings(), Neo4jVector, k=5, input_keys=[\"question\"]\n",
        "# )\n",
        "\n",
        "# with open(\"few_shot_prompts.json\", \"w\") as f:\n",
        "#     json.dump(examples, f, indent=4)"
      ]
    },
    {
      "cell_type": "code",
      "execution_count": 6,
      "metadata": {},
      "outputs": [
        {
          "name": "stdout",
          "output_type": "stream",
          "text": [
            "<class 'list'>\n",
            "15\n"
          ]
        }
      ],
      "source": [
        "from langchain_core.example_selectors import SemanticSimilarityExampleSelector\n",
        "from langchain_neo4j import Neo4jVector\n",
        "from langchain_openai import OpenAIEmbeddings\n",
        "import json \n",
        "with open('few_shot_prompts.json', 'r') as f:\n",
        "    examples = json.load(f)\n",
        "\n",
        "example_selector = SemanticSimilarityExampleSelector.from_examples(\n",
        "    examples, OpenAIEmbeddings(), Neo4jVector, k=5, input_keys=[\"question\"]\n",
        ")\n",
        "\n",
        "print(type(examples))\n",
        "print(len(examples))"
      ]
    },
    {
      "cell_type": "markdown",
      "metadata": {
        "id": "Cig8-_ZP7x2O"
      },
      "source": [
        "Next, we implement the Cypher generation chain, also known as **text2cypher**. The prompt includes an enhanced graph schema, dynamically selected few-shot examples, and the user’s question. This combination enables the generation of a Cypher query to retrieve relevant information from the database."
      ]
    },
    {
      "cell_type": "code",
      "execution_count": 7,
      "metadata": {
        "id": "Pq1FadH_7x2O"
      },
      "outputs": [],
      "source": [
        "from langchain_core.output_parsers import StrOutputParser\n",
        "\n",
        "text2cypher_prompt = ChatPromptTemplate.from_messages(\n",
        "    [\n",
        "        (\n",
        "            \"system\",\n",
        "            (\n",
        "                \"Given an input question, convert it to a Cypher query. No pre-amble.\"\n",
        "                \"Do not wrap the response in any backticks or anything else. Respond with a Cypher statement only!\"\n",
        "            ),\n",
        "        ),\n",
        "        (\n",
        "            \"human\",\n",
        "            (\n",
        "                \"\"\"You are a Neo4j expert. Given an input question, create a syntactically correct Cypher query to run.\n",
        "Do not wrap the response in any backticks or anything else. Respond with a Cypher statement only!\n",
        "Here is the schema information\n",
        "{schema}\n",
        "\n",
        "Below are a number of examples of questions and their corresponding Cypher queries.\n",
        "\n",
        "{fewshot_examples}\n",
        "\n",
        "User input: {question}\n",
        "Cypher query:\"\"\"\n",
        "            ),\n",
        "        ),\n",
        "    ]\n",
        ")\n",
        "\n",
        "text2cypher_chain = text2cypher_prompt | llm | StrOutputParser()\n",
        "\n",
        "\n",
        "def generate_cypher(state: OverallState) -> OverallState:\n",
        "    \"\"\"\n",
        "    Generates a cypher statement based on the provided schema and user input\n",
        "    \"\"\"\n",
        "    NL = \"\\n\"\n",
        "    fewshot_examples = (NL * 2).join(\n",
        "        [\n",
        "            f\"Question: {el['question']}{NL}Cypher:{el['query']}\"\n",
        "            for el in example_selector.select_examples(\n",
        "                {\"question\": state.get(\"question\")}\n",
        "            )\n",
        "        ]\n",
        "    )\n",
        "    generated_cypher = text2cypher_chain.invoke(\n",
        "        {\n",
        "            \"question\": state.get(\"question\"),\n",
        "            \"fewshot_examples\": fewshot_examples,\n",
        "            \"schema\": enhanced_graph.schema,\n",
        "        }\n",
        "    )\n",
        "    return {\"cypher_statement\": generated_cypher, \"steps\": [\"generate_cypher\"]}"
      ]
    },
    {
      "cell_type": "markdown",
      "metadata": {
        "id": "S1Tsvagh7x2O"
      },
      "source": [
        "### Query validation\n",
        "\n",
        "The next step is to validate the generated Cypher statement and ensuring that all property values are accurate. While numbers and dates typically don’t require validation, strings such as movie titles or people’s names do. In this example, we’ll use a basic `CONTAINS` clause for validation, though more advanced mapping and validation techniques can be implemented if needed.\n",
        "\n",
        "First, we will create a chain that detects any errors in the Cypher statement and extracts the property values it references."
      ]
    },
    {
      "cell_type": "code",
      "execution_count": 8,
      "metadata": {
        "id": "ZHL_qYQS7x2O"
      },
      "outputs": [],
      "source": [
        "from typing import List, Optional\n",
        "\n",
        "validate_cypher_system = \"\"\"\n",
        "You are a Cypher expert reviewing a statement written by a junior developer.\n",
        "\"\"\"\n",
        "\n",
        "validate_cypher_user = \"\"\"You must check the following:\n",
        "* Are there any syntax errors in the Cypher statement?\n",
        "* Are there any missing or undefined variables in the Cypher statement?\n",
        "* Are any node labels missing from the schema?\n",
        "* Are any relationship types missing from the schema?\n",
        "* Are any of the properties not included in the schema?\n",
        "* Does the Cypher statement include enough information to answer the question?\n",
        "\n",
        "Examples of good errors:\n",
        "* Label (:Foo) does not exist, did you mean (:Bar)?\n",
        "* Property bar does not exist for label Foo, did you mean baz?\n",
        "* Relationship FOO does not exist, did you mean FOO_BAR?\n",
        "\n",
        "Schema:\n",
        "{schema}\n",
        "\n",
        "The question is:\n",
        "{question}\n",
        "\n",
        "The Cypher statement is:\n",
        "{cypher}\n",
        "\n",
        "Make sure you don't make any mistakes!\"\"\"\n",
        "\n",
        "validate_cypher_prompt = ChatPromptTemplate.from_messages(\n",
        "    [\n",
        "        (\n",
        "            \"system\",\n",
        "            validate_cypher_system,\n",
        "        ),\n",
        "        (\n",
        "            \"human\",\n",
        "            (validate_cypher_user),\n",
        "        ),\n",
        "    ]\n",
        ")\n",
        "\n",
        "\n",
        "class Property(BaseModel):\n",
        "    \"\"\"\n",
        "    Represents a filter condition based on a specific node property in a graph in a Cypher statement.\n",
        "    \"\"\"\n",
        "\n",
        "    node_label: str = Field(\n",
        "        description=\"The label of the node to which this property belongs.\"\n",
        "    )\n",
        "    property_key: str = Field(description=\"The key of the property being filtered.\")\n",
        "    property_value: str = Field(\n",
        "        description=\"The value that the property is being matched against.\"\n",
        "    )\n",
        "\n",
        "\n",
        "class ValidateCypherOutput(BaseModel):\n",
        "    \"\"\"\n",
        "    Represents the validation result of a Cypher query's output,\n",
        "    including any errors and applied filters.\n",
        "    \"\"\"\n",
        "\n",
        "    errors: Optional[List[str]] = Field(\n",
        "        description=\"A list of syntax or semantical errors in the Cypher statement. Always explain the discrepancy between schema and Cypher statement\"\n",
        "    )\n",
        "    filters: Optional[List[Property]] = Field(\n",
        "        description=\"A list of property-based filters applied in the Cypher statement.\"\n",
        "    )\n",
        "\n",
        "\n",
        "validate_cypher_chain = validate_cypher_prompt | llm.with_structured_output(\n",
        "    ValidateCypherOutput\n",
        ")"
      ]
    },
    {
      "cell_type": "markdown",
      "metadata": {
        "id": "AwNFfQlm7x2O"
      },
      "source": [
        "LLMs often struggle with correctly determining relationship directions in generated Cypher statements. Since we have access to the schema, we can deterministically correct these directions using the **CypherQueryCorrector**.\n",
        "\n",
        "*Note: The `CypherQueryCorrector` is an experimental feature and doesn't support all the newest Cypher syntax.*"
      ]
    },
    {
      "cell_type": "code",
      "execution_count": 9,
      "metadata": {
        "id": "wsAchHSE7x2O"
      },
      "outputs": [],
      "source": [
        "from langchain_neo4j.chains.graph_qa.cypher_utils import CypherQueryCorrector, Schema\n",
        "\n",
        "# Cypher query corrector is experimental\n",
        "corrector_schema = [\n",
        "    Schema(el[\"start\"], el[\"type\"], el[\"end\"])\n",
        "    for el in enhanced_graph.structured_schema.get(\"relationships\")\n",
        "]\n",
        "cypher_query_corrector = CypherQueryCorrector(corrector_schema)"
      ]
    },
    {
      "cell_type": "markdown",
      "metadata": {
        "id": "rtb2zFa57x2P"
      },
      "source": [
        "Now we can implement the Cypher validation step. First, we use the `EXPLAIN` method to detect any syntax errors. Next, we leverage the LLM to identify potential issues and extract the properties used for filtering. For string properties, we validate them against the database using a simple `CONTAINS` clause.\n",
        "\n",
        "Based on the validation results, the process can take the following paths:\n",
        "\n",
        "- If value mapping fails, we end the conversation and inform the user that we couldn't identify a specific property value (e.g., a person or movie title).  \n",
        "- If errors are found, we route the query for correction.  \n",
        "- If no issues are detected, we proceed to the Cypher execution step.  "
      ]
    },
    {
      "cell_type": "code",
      "execution_count": 10,
      "metadata": {
        "id": "c8ug-Aa-7x2P"
      },
      "outputs": [],
      "source": [
        "from neo4j.exceptions import CypherSyntaxError\n",
        "\n",
        "\n",
        "def validate_cypher(state: OverallState) -> OverallState:\n",
        "    \"\"\"\n",
        "    Validates the Cypher statements and maps any property values to the database.\n",
        "    \"\"\"\n",
        "    errors = []\n",
        "    mapping_errors = []\n",
        "    # Check for syntax errors\n",
        "    try:\n",
        "        enhanced_graph.query(f\"EXPLAIN {state.get('cypher_statement')}\")\n",
        "    except CypherSyntaxError as e:\n",
        "        errors.append(e.message)\n",
        "    # Experimental feature for correcting relationship directions\n",
        "    corrected_cypher = cypher_query_corrector(state.get(\"cypher_statement\"))\n",
        "    if not corrected_cypher:\n",
        "        errors.append(\"The generated Cypher statement doesn't fit the graph schema\")\n",
        "    if not corrected_cypher == state.get(\"cypher_statement\"):\n",
        "        print(\"Relationship direction was corrected\")\n",
        "    # Use LLM to find additional potential errors and get the mapping for values\n",
        "    llm_output = validate_cypher_chain.invoke(\n",
        "        {\n",
        "            \"question\": state.get(\"question\"),\n",
        "            \"schema\": enhanced_graph.schema,\n",
        "            \"cypher\": state.get(\"cypher_statement\"),\n",
        "        }\n",
        "    )\n",
        "    if llm_output.errors:\n",
        "        errors.extend(llm_output.errors)\n",
        "    if llm_output.filters:\n",
        "        for filter in llm_output.filters:\n",
        "            # Do mapping only for string values\n",
        "            if (\n",
        "                not [\n",
        "                    prop\n",
        "                    for prop in enhanced_graph.structured_schema[\"node_props\"][\n",
        "                        filter.node_label\n",
        "                    ]\n",
        "                    if prop[\"property\"] == filter.property_key\n",
        "                ][0][\"type\"]\n",
        "                == \"STRING\"\n",
        "            ):\n",
        "                continue\n",
        "            mapping = enhanced_graph.query(\n",
        "                f\"MATCH (n:{filter.node_label}) WHERE toLower(n.`{filter.property_key}`) = toLower($value) RETURN 'yes' LIMIT 1\",\n",
        "                {\"value\": filter.property_value},\n",
        "            )\n",
        "            if not mapping:\n",
        "                print(\n",
        "                    f\"Missing value mapping for {filter.node_label} on property {filter.property_key} with value {filter.property_value}\"\n",
        "                )\n",
        "                mapping_errors.append(\n",
        "                    f\"Missing value mapping for {filter.node_label} on property {filter.property_key} with value {filter.property_value}\"\n",
        "                )\n",
        "    if mapping_errors:\n",
        "        next_action = \"end\"\n",
        "    elif errors:\n",
        "        next_action = \"correct_cypher\"\n",
        "    else:\n",
        "        next_action = \"execute_cypher\"\n",
        "\n",
        "    return {\n",
        "        \"next_action\": next_action,\n",
        "        \"cypher_statement\": corrected_cypher,\n",
        "        \"cypher_errors\": errors,\n",
        "        \"steps\": [\"validate_cypher\"],\n",
        "    }"
      ]
    },
    {
      "cell_type": "markdown",
      "metadata": {
        "id": "3k_KCkea7x2P"
      },
      "source": [
        "The Cypher correction step takes the existing Cypher statement, any identified errors, and the original question to generate a corrected version of the query."
      ]
    },
    {
      "cell_type": "code",
      "execution_count": 11,
      "metadata": {
        "id": "h8nj6xAf7x2P"
      },
      "outputs": [],
      "source": [
        "correct_cypher_prompt = ChatPromptTemplate.from_messages(\n",
        "    [\n",
        "        (\n",
        "            \"system\",\n",
        "            (\n",
        "                \"You are a Cypher expert reviewing a statement written by a junior developer. \"\n",
        "                \"You need to correct the Cypher statement based on the provided errors. No pre-amble.\"\n",
        "                \"Do not wrap the response in any backticks or anything else. Respond with a Cypher statement only!\"\n",
        "            ),\n",
        "        ),\n",
        "        (\n",
        "            \"human\",\n",
        "            (\n",
        "                \"\"\"Check for invalid syntax or semantics and return a corrected Cypher statement.\n",
        "\n",
        "Schema:\n",
        "{schema}\n",
        "\n",
        "Note: Do not include any explanations or apologies in your responses.\n",
        "Do not wrap the response in any backticks or anything else.\n",
        "Respond with a Cypher statement only!\n",
        "\n",
        "Do not respond to any questions that might ask anything else than for you to construct a Cypher statement.\n",
        "\n",
        "The question is:\n",
        "{question}\n",
        "\n",
        "The Cypher statement is:\n",
        "{cypher}\n",
        "\n",
        "The errors are:\n",
        "{errors}\n",
        "\n",
        "Corrected Cypher statement: \"\"\"\n",
        "            ),\n",
        "        ),\n",
        "    ]\n",
        ")\n",
        "\n",
        "correct_cypher_chain = correct_cypher_prompt | llm | StrOutputParser()\n",
        "\n",
        "\n",
        "def correct_cypher(state: OverallState) -> OverallState:\n",
        "    \"\"\"\n",
        "    Correct the Cypher statement based on the provided errors.\n",
        "    \"\"\"\n",
        "    corrected_cypher = correct_cypher_chain.invoke(\n",
        "        {\n",
        "            \"question\": state.get(\"question\"),\n",
        "            \"errors\": state.get(\"cypher_errors\"),\n",
        "            \"cypher\": state.get(\"cypher_statement\"),\n",
        "            \"schema\": enhanced_graph.schema,\n",
        "        }\n",
        "    )\n",
        "\n",
        "    return {\n",
        "        \"next_action\": \"validate_cypher\",\n",
        "        \"cypher_statement\": corrected_cypher,\n",
        "        \"steps\": [\"correct_cypher\"],\n",
        "    }"
      ]
    },
    {
      "cell_type": "markdown",
      "metadata": {
        "id": "9URnakbl7x2Q"
      },
      "source": [
        "We need to add a step that executes the given Cypher statement. If no results are returned, we should explicitly handle this scenario, as leaving the context empty can sometimes lead to LLM hallucinations."
      ]
    },
    {
      "cell_type": "code",
      "execution_count": 12,
      "metadata": {
        "id": "3Q4n7gWL7x2Q"
      },
      "outputs": [],
      "source": [
        "no_results = \"I couldn't find any relevant information in the database\"\n",
        "\n",
        "\n",
        "def execute_cypher(state: OverallState) -> OverallState:\n",
        "    \"\"\"\n",
        "    Executes the given Cypher statement.\n",
        "    \"\"\"\n",
        "\n",
        "    records = enhanced_graph.query(state.get(\"cypher_statement\"))\n",
        "    return {\n",
        "        \"database_records\": records if records else no_results,\n",
        "        \"next_action\": \"end\",\n",
        "        \"steps\": [\"execute_cypher\"],\n",
        "    }"
      ]
    },
    {
      "cell_type": "markdown",
      "metadata": {
        "id": "oP_fOn4T7x2Q"
      },
      "source": [
        "The final step is to generate the answer. This involves combining the initial question with the database output to produce a relevant response."
      ]
    },
    {
      "cell_type": "code",
      "execution_count": 13,
      "metadata": {
        "id": "Qe-bcdLc7x2Q"
      },
      "outputs": [],
      "source": [
        "generate_final_prompt = ChatPromptTemplate.from_messages(\n",
        "    [\n",
        "        (\n",
        "            \"system\",\n",
        "            \"You are a helpful assistant\",\n",
        "        ),\n",
        "        (\n",
        "            \"human\",\n",
        "            (\n",
        "                \"\"\"Use the following results retrieved from a database to provide\n",
        "a succinct, definitive answer to the user's question.\n",
        "\n",
        "Respond as if you are answering the question directly.\n",
        "\n",
        "Results: {results}\n",
        "Question: {question}\"\"\"\n",
        "            ),\n",
        "        ),\n",
        "    ]\n",
        ")\n",
        "\n",
        "generate_final_chain = generate_final_prompt | llm | StrOutputParser()\n",
        "\n",
        "\n",
        "def generate_final_answer(state: OverallState) -> OutputState:\n",
        "    \"\"\"\n",
        "    Decides if the question is related to movies.\n",
        "    \"\"\"\n",
        "    final_answer = generate_final_chain.invoke(\n",
        "        {\"question\": state.get(\"question\"), \"results\": state.get(\"database_records\")}\n",
        "    )\n",
        "    return {\"answer\": final_answer, \"steps\": [\"generate_final_answer\"]}"
      ]
    },
    {
      "cell_type": "markdown",
      "metadata": {
        "id": "9snNvED-7x2R"
      },
      "source": [
        "Next, we will implement the LangGraph workflow, starting with defining the conditional edge functions."
      ]
    },
    {
      "cell_type": "code",
      "execution_count": 14,
      "metadata": {
        "id": "Fm7koU_X7x2R"
      },
      "outputs": [],
      "source": [
        "def guardrails_condition(\n",
        "    state: OverallState,\n",
        ") -> Literal[\"generate_cypher\", \"generate_final_answer\"]:\n",
        "    if state.get(\"next_action\") == \"end\":\n",
        "        return \"generate_final_answer\"\n",
        "    elif state.get(\"next_action\") == \"movie\":\n",
        "        return \"generate_cypher\"\n",
        "\n",
        "\n",
        "def validate_cypher_condition(\n",
        "    state: OverallState,\n",
        ") -> Literal[\"generate_final_answer\", \"correct_cypher\", \"execute_cypher\"]:\n",
        "    if state.get(\"next_action\") == \"end\":\n",
        "        return \"generate_final_answer\"\n",
        "    elif state.get(\"next_action\") == \"correct_cypher\":\n",
        "        return \"correct_cypher\"\n",
        "    elif state.get(\"next_action\") == \"execute_cypher\":\n",
        "        return \"execute_cypher\""
      ]
    },
    {
      "cell_type": "markdown",
      "metadata": {
        "id": "zIaoUaZH7x2R"
      },
      "source": [
        "Let's put it all together now."
      ]
    },
    {
      "cell_type": "code",
      "execution_count": 16,
      "metadata": {
        "id": "NQ9Eaq0v7x2R",
        "outputId": "baecbee0-cb8a-415d-b863-ab13c31e9706"
      },
      "outputs": [
        {
          "ename": "ReadTimeout",
          "evalue": "HTTPSConnectionPool(host='mermaid.ink', port=443): Read timed out. (read timeout=10)",
          "output_type": "error",
          "traceback": [
            "\u001b[0;31m---------------------------------------------------------------------------\u001b[0m",
            "\u001b[0;31mTimeoutError\u001b[0m                              Traceback (most recent call last)",
            "File \u001b[0;32m/opt/homebrew/lib/python3.10/site-packages/urllib3/connectionpool.py:534\u001b[0m, in \u001b[0;36mHTTPConnectionPool._make_request\u001b[0;34m(self, conn, method, url, body, headers, retries, timeout, chunked, response_conn, preload_content, decode_content, enforce_content_length)\u001b[0m\n\u001b[1;32m    533\u001b[0m \u001b[38;5;28;01mtry\u001b[39;00m:\n\u001b[0;32m--> 534\u001b[0m     response \u001b[38;5;241m=\u001b[39m \u001b[43mconn\u001b[49m\u001b[38;5;241;43m.\u001b[39;49m\u001b[43mgetresponse\u001b[49m\u001b[43m(\u001b[49m\u001b[43m)\u001b[49m\n\u001b[1;32m    535\u001b[0m \u001b[38;5;28;01mexcept\u001b[39;00m (BaseSSLError, \u001b[38;5;167;01mOSError\u001b[39;00m) \u001b[38;5;28;01mas\u001b[39;00m e:\n",
            "File \u001b[0;32m/opt/homebrew/lib/python3.10/site-packages/urllib3/connection.py:516\u001b[0m, in \u001b[0;36mHTTPConnection.getresponse\u001b[0;34m(self)\u001b[0m\n\u001b[1;32m    515\u001b[0m \u001b[38;5;66;03m# Get the response from http.client.HTTPConnection\u001b[39;00m\n\u001b[0;32m--> 516\u001b[0m httplib_response \u001b[38;5;241m=\u001b[39m \u001b[38;5;28;43msuper\u001b[39;49m\u001b[43m(\u001b[49m\u001b[43m)\u001b[49m\u001b[38;5;241;43m.\u001b[39;49m\u001b[43mgetresponse\u001b[49m\u001b[43m(\u001b[49m\u001b[43m)\u001b[49m\n\u001b[1;32m    518\u001b[0m \u001b[38;5;28;01mtry\u001b[39;00m:\n",
            "File \u001b[0;32m/opt/homebrew/Cellar/python@3.10/3.10.16/Frameworks/Python.framework/Versions/3.10/lib/python3.10/http/client.py:1375\u001b[0m, in \u001b[0;36mHTTPConnection.getresponse\u001b[0;34m(self)\u001b[0m\n\u001b[1;32m   1374\u001b[0m \u001b[38;5;28;01mtry\u001b[39;00m:\n\u001b[0;32m-> 1375\u001b[0m     \u001b[43mresponse\u001b[49m\u001b[38;5;241;43m.\u001b[39;49m\u001b[43mbegin\u001b[49m\u001b[43m(\u001b[49m\u001b[43m)\u001b[49m\n\u001b[1;32m   1376\u001b[0m \u001b[38;5;28;01mexcept\u001b[39;00m \u001b[38;5;167;01mConnectionError\u001b[39;00m:\n",
            "File \u001b[0;32m/opt/homebrew/Cellar/python@3.10/3.10.16/Frameworks/Python.framework/Versions/3.10/lib/python3.10/http/client.py:318\u001b[0m, in \u001b[0;36mHTTPResponse.begin\u001b[0;34m(self)\u001b[0m\n\u001b[1;32m    317\u001b[0m \u001b[38;5;28;01mwhile\u001b[39;00m \u001b[38;5;28;01mTrue\u001b[39;00m:\n\u001b[0;32m--> 318\u001b[0m     version, status, reason \u001b[38;5;241m=\u001b[39m \u001b[38;5;28;43mself\u001b[39;49m\u001b[38;5;241;43m.\u001b[39;49m\u001b[43m_read_status\u001b[49m\u001b[43m(\u001b[49m\u001b[43m)\u001b[49m\n\u001b[1;32m    319\u001b[0m     \u001b[38;5;28;01mif\u001b[39;00m status \u001b[38;5;241m!=\u001b[39m CONTINUE:\n",
            "File \u001b[0;32m/opt/homebrew/Cellar/python@3.10/3.10.16/Frameworks/Python.framework/Versions/3.10/lib/python3.10/http/client.py:279\u001b[0m, in \u001b[0;36mHTTPResponse._read_status\u001b[0;34m(self)\u001b[0m\n\u001b[1;32m    278\u001b[0m \u001b[38;5;28;01mdef\u001b[39;00m\u001b[38;5;250m \u001b[39m\u001b[38;5;21m_read_status\u001b[39m(\u001b[38;5;28mself\u001b[39m):\n\u001b[0;32m--> 279\u001b[0m     line \u001b[38;5;241m=\u001b[39m \u001b[38;5;28mstr\u001b[39m(\u001b[38;5;28;43mself\u001b[39;49m\u001b[38;5;241;43m.\u001b[39;49m\u001b[43mfp\u001b[49m\u001b[38;5;241;43m.\u001b[39;49m\u001b[43mreadline\u001b[49m\u001b[43m(\u001b[49m\u001b[43m_MAXLINE\u001b[49m\u001b[43m \u001b[49m\u001b[38;5;241;43m+\u001b[39;49m\u001b[43m \u001b[49m\u001b[38;5;241;43m1\u001b[39;49m\u001b[43m)\u001b[49m, \u001b[38;5;124m\"\u001b[39m\u001b[38;5;124miso-8859-1\u001b[39m\u001b[38;5;124m\"\u001b[39m)\n\u001b[1;32m    280\u001b[0m     \u001b[38;5;28;01mif\u001b[39;00m \u001b[38;5;28mlen\u001b[39m(line) \u001b[38;5;241m>\u001b[39m _MAXLINE:\n",
            "File \u001b[0;32m/opt/homebrew/Cellar/python@3.10/3.10.16/Frameworks/Python.framework/Versions/3.10/lib/python3.10/socket.py:717\u001b[0m, in \u001b[0;36mSocketIO.readinto\u001b[0;34m(self, b)\u001b[0m\n\u001b[1;32m    716\u001b[0m \u001b[38;5;28;01mtry\u001b[39;00m:\n\u001b[0;32m--> 717\u001b[0m     \u001b[38;5;28;01mreturn\u001b[39;00m \u001b[38;5;28;43mself\u001b[39;49m\u001b[38;5;241;43m.\u001b[39;49m\u001b[43m_sock\u001b[49m\u001b[38;5;241;43m.\u001b[39;49m\u001b[43mrecv_into\u001b[49m\u001b[43m(\u001b[49m\u001b[43mb\u001b[49m\u001b[43m)\u001b[49m\n\u001b[1;32m    718\u001b[0m \u001b[38;5;28;01mexcept\u001b[39;00m timeout:\n",
            "File \u001b[0;32m/opt/homebrew/Cellar/python@3.10/3.10.16/Frameworks/Python.framework/Versions/3.10/lib/python3.10/ssl.py:1307\u001b[0m, in \u001b[0;36mSSLSocket.recv_into\u001b[0;34m(self, buffer, nbytes, flags)\u001b[0m\n\u001b[1;32m   1304\u001b[0m         \u001b[38;5;28;01mraise\u001b[39;00m \u001b[38;5;167;01mValueError\u001b[39;00m(\n\u001b[1;32m   1305\u001b[0m           \u001b[38;5;124m\"\u001b[39m\u001b[38;5;124mnon-zero flags not allowed in calls to recv_into() on \u001b[39m\u001b[38;5;132;01m%s\u001b[39;00m\u001b[38;5;124m\"\u001b[39m \u001b[38;5;241m%\u001b[39m\n\u001b[1;32m   1306\u001b[0m           \u001b[38;5;28mself\u001b[39m\u001b[38;5;241m.\u001b[39m\u001b[38;5;18m__class__\u001b[39m)\n\u001b[0;32m-> 1307\u001b[0m     \u001b[38;5;28;01mreturn\u001b[39;00m \u001b[38;5;28;43mself\u001b[39;49m\u001b[38;5;241;43m.\u001b[39;49m\u001b[43mread\u001b[49m\u001b[43m(\u001b[49m\u001b[43mnbytes\u001b[49m\u001b[43m,\u001b[49m\u001b[43m \u001b[49m\u001b[43mbuffer\u001b[49m\u001b[43m)\u001b[49m\n\u001b[1;32m   1308\u001b[0m \u001b[38;5;28;01melse\u001b[39;00m:\n",
            "File \u001b[0;32m/opt/homebrew/Cellar/python@3.10/3.10.16/Frameworks/Python.framework/Versions/3.10/lib/python3.10/ssl.py:1163\u001b[0m, in \u001b[0;36mSSLSocket.read\u001b[0;34m(self, len, buffer)\u001b[0m\n\u001b[1;32m   1162\u001b[0m \u001b[38;5;28;01mif\u001b[39;00m buffer \u001b[38;5;129;01mis\u001b[39;00m \u001b[38;5;129;01mnot\u001b[39;00m \u001b[38;5;28;01mNone\u001b[39;00m:\n\u001b[0;32m-> 1163\u001b[0m     \u001b[38;5;28;01mreturn\u001b[39;00m \u001b[38;5;28;43mself\u001b[39;49m\u001b[38;5;241;43m.\u001b[39;49m\u001b[43m_sslobj\u001b[49m\u001b[38;5;241;43m.\u001b[39;49m\u001b[43mread\u001b[49m\u001b[43m(\u001b[49m\u001b[38;5;28;43mlen\u001b[39;49m\u001b[43m,\u001b[49m\u001b[43m \u001b[49m\u001b[43mbuffer\u001b[49m\u001b[43m)\u001b[49m\n\u001b[1;32m   1164\u001b[0m \u001b[38;5;28;01melse\u001b[39;00m:\n",
            "\u001b[0;31mTimeoutError\u001b[0m: The read operation timed out",
            "\nThe above exception was the direct cause of the following exception:\n",
            "\u001b[0;31mReadTimeoutError\u001b[0m                          Traceback (most recent call last)",
            "File \u001b[0;32m/opt/homebrew/lib/python3.10/site-packages/requests/adapters.py:667\u001b[0m, in \u001b[0;36mHTTPAdapter.send\u001b[0;34m(self, request, stream, timeout, verify, cert, proxies)\u001b[0m\n\u001b[1;32m    666\u001b[0m \u001b[38;5;28;01mtry\u001b[39;00m:\n\u001b[0;32m--> 667\u001b[0m     resp \u001b[38;5;241m=\u001b[39m \u001b[43mconn\u001b[49m\u001b[38;5;241;43m.\u001b[39;49m\u001b[43murlopen\u001b[49m\u001b[43m(\u001b[49m\n\u001b[1;32m    668\u001b[0m \u001b[43m        \u001b[49m\u001b[43mmethod\u001b[49m\u001b[38;5;241;43m=\u001b[39;49m\u001b[43mrequest\u001b[49m\u001b[38;5;241;43m.\u001b[39;49m\u001b[43mmethod\u001b[49m\u001b[43m,\u001b[49m\n\u001b[1;32m    669\u001b[0m \u001b[43m        \u001b[49m\u001b[43murl\u001b[49m\u001b[38;5;241;43m=\u001b[39;49m\u001b[43murl\u001b[49m\u001b[43m,\u001b[49m\n\u001b[1;32m    670\u001b[0m \u001b[43m        \u001b[49m\u001b[43mbody\u001b[49m\u001b[38;5;241;43m=\u001b[39;49m\u001b[43mrequest\u001b[49m\u001b[38;5;241;43m.\u001b[39;49m\u001b[43mbody\u001b[49m\u001b[43m,\u001b[49m\n\u001b[1;32m    671\u001b[0m \u001b[43m        \u001b[49m\u001b[43mheaders\u001b[49m\u001b[38;5;241;43m=\u001b[39;49m\u001b[43mrequest\u001b[49m\u001b[38;5;241;43m.\u001b[39;49m\u001b[43mheaders\u001b[49m\u001b[43m,\u001b[49m\n\u001b[1;32m    672\u001b[0m \u001b[43m        \u001b[49m\u001b[43mredirect\u001b[49m\u001b[38;5;241;43m=\u001b[39;49m\u001b[38;5;28;43;01mFalse\u001b[39;49;00m\u001b[43m,\u001b[49m\n\u001b[1;32m    673\u001b[0m \u001b[43m        \u001b[49m\u001b[43massert_same_host\u001b[49m\u001b[38;5;241;43m=\u001b[39;49m\u001b[38;5;28;43;01mFalse\u001b[39;49;00m\u001b[43m,\u001b[49m\n\u001b[1;32m    674\u001b[0m \u001b[43m        \u001b[49m\u001b[43mpreload_content\u001b[49m\u001b[38;5;241;43m=\u001b[39;49m\u001b[38;5;28;43;01mFalse\u001b[39;49;00m\u001b[43m,\u001b[49m\n\u001b[1;32m    675\u001b[0m \u001b[43m        \u001b[49m\u001b[43mdecode_content\u001b[49m\u001b[38;5;241;43m=\u001b[39;49m\u001b[38;5;28;43;01mFalse\u001b[39;49;00m\u001b[43m,\u001b[49m\n\u001b[1;32m    676\u001b[0m \u001b[43m        \u001b[49m\u001b[43mretries\u001b[49m\u001b[38;5;241;43m=\u001b[39;49m\u001b[38;5;28;43mself\u001b[39;49m\u001b[38;5;241;43m.\u001b[39;49m\u001b[43mmax_retries\u001b[49m\u001b[43m,\u001b[49m\n\u001b[1;32m    677\u001b[0m \u001b[43m        \u001b[49m\u001b[43mtimeout\u001b[49m\u001b[38;5;241;43m=\u001b[39;49m\u001b[43mtimeout\u001b[49m\u001b[43m,\u001b[49m\n\u001b[1;32m    678\u001b[0m \u001b[43m        \u001b[49m\u001b[43mchunked\u001b[49m\u001b[38;5;241;43m=\u001b[39;49m\u001b[43mchunked\u001b[49m\u001b[43m,\u001b[49m\n\u001b[1;32m    679\u001b[0m \u001b[43m    \u001b[49m\u001b[43m)\u001b[49m\n\u001b[1;32m    681\u001b[0m \u001b[38;5;28;01mexcept\u001b[39;00m (ProtocolError, \u001b[38;5;167;01mOSError\u001b[39;00m) \u001b[38;5;28;01mas\u001b[39;00m err:\n",
            "File \u001b[0;32m/opt/homebrew/lib/python3.10/site-packages/urllib3/connectionpool.py:841\u001b[0m, in \u001b[0;36mHTTPConnectionPool.urlopen\u001b[0;34m(self, method, url, body, headers, retries, redirect, assert_same_host, timeout, pool_timeout, release_conn, chunked, body_pos, preload_content, decode_content, **response_kw)\u001b[0m\n\u001b[1;32m    839\u001b[0m     new_e \u001b[38;5;241m=\u001b[39m ProtocolError(\u001b[38;5;124m\"\u001b[39m\u001b[38;5;124mConnection aborted.\u001b[39m\u001b[38;5;124m\"\u001b[39m, new_e)\n\u001b[0;32m--> 841\u001b[0m retries \u001b[38;5;241m=\u001b[39m \u001b[43mretries\u001b[49m\u001b[38;5;241;43m.\u001b[39;49m\u001b[43mincrement\u001b[49m\u001b[43m(\u001b[49m\n\u001b[1;32m    842\u001b[0m \u001b[43m    \u001b[49m\u001b[43mmethod\u001b[49m\u001b[43m,\u001b[49m\u001b[43m \u001b[49m\u001b[43murl\u001b[49m\u001b[43m,\u001b[49m\u001b[43m \u001b[49m\u001b[43merror\u001b[49m\u001b[38;5;241;43m=\u001b[39;49m\u001b[43mnew_e\u001b[49m\u001b[43m,\u001b[49m\u001b[43m \u001b[49m\u001b[43m_pool\u001b[49m\u001b[38;5;241;43m=\u001b[39;49m\u001b[38;5;28;43mself\u001b[39;49m\u001b[43m,\u001b[49m\u001b[43m \u001b[49m\u001b[43m_stacktrace\u001b[49m\u001b[38;5;241;43m=\u001b[39;49m\u001b[43msys\u001b[49m\u001b[38;5;241;43m.\u001b[39;49m\u001b[43mexc_info\u001b[49m\u001b[43m(\u001b[49m\u001b[43m)\u001b[49m\u001b[43m[\u001b[49m\u001b[38;5;241;43m2\u001b[39;49m\u001b[43m]\u001b[49m\n\u001b[1;32m    843\u001b[0m \u001b[43m\u001b[49m\u001b[43m)\u001b[49m\n\u001b[1;32m    844\u001b[0m retries\u001b[38;5;241m.\u001b[39msleep()\n",
            "File \u001b[0;32m/opt/homebrew/lib/python3.10/site-packages/urllib3/util/retry.py:474\u001b[0m, in \u001b[0;36mRetry.increment\u001b[0;34m(self, method, url, response, error, _pool, _stacktrace)\u001b[0m\n\u001b[1;32m    473\u001b[0m \u001b[38;5;28;01mif\u001b[39;00m read \u001b[38;5;129;01mis\u001b[39;00m \u001b[38;5;28;01mFalse\u001b[39;00m \u001b[38;5;129;01mor\u001b[39;00m method \u001b[38;5;129;01mis\u001b[39;00m \u001b[38;5;28;01mNone\u001b[39;00m \u001b[38;5;129;01mor\u001b[39;00m \u001b[38;5;129;01mnot\u001b[39;00m \u001b[38;5;28mself\u001b[39m\u001b[38;5;241m.\u001b[39m_is_method_retryable(method):\n\u001b[0;32m--> 474\u001b[0m     \u001b[38;5;28;01mraise\u001b[39;00m \u001b[43mreraise\u001b[49m\u001b[43m(\u001b[49m\u001b[38;5;28;43mtype\u001b[39;49m\u001b[43m(\u001b[49m\u001b[43merror\u001b[49m\u001b[43m)\u001b[49m\u001b[43m,\u001b[49m\u001b[43m \u001b[49m\u001b[43merror\u001b[49m\u001b[43m,\u001b[49m\u001b[43m \u001b[49m\u001b[43m_stacktrace\u001b[49m\u001b[43m)\u001b[49m\n\u001b[1;32m    475\u001b[0m \u001b[38;5;28;01melif\u001b[39;00m read \u001b[38;5;129;01mis\u001b[39;00m \u001b[38;5;129;01mnot\u001b[39;00m \u001b[38;5;28;01mNone\u001b[39;00m:\n",
            "File \u001b[0;32m/opt/homebrew/lib/python3.10/site-packages/urllib3/util/util.py:39\u001b[0m, in \u001b[0;36mreraise\u001b[0;34m(tp, value, tb)\u001b[0m\n\u001b[1;32m     38\u001b[0m         \u001b[38;5;28;01mraise\u001b[39;00m value\u001b[38;5;241m.\u001b[39mwith_traceback(tb)\n\u001b[0;32m---> 39\u001b[0m     \u001b[38;5;28;01mraise\u001b[39;00m value\n\u001b[1;32m     40\u001b[0m \u001b[38;5;28;01mfinally\u001b[39;00m:\n",
            "File \u001b[0;32m/opt/homebrew/lib/python3.10/site-packages/urllib3/connectionpool.py:787\u001b[0m, in \u001b[0;36mHTTPConnectionPool.urlopen\u001b[0;34m(self, method, url, body, headers, retries, redirect, assert_same_host, timeout, pool_timeout, release_conn, chunked, body_pos, preload_content, decode_content, **response_kw)\u001b[0m\n\u001b[1;32m    786\u001b[0m \u001b[38;5;66;03m# Make the request on the HTTPConnection object\u001b[39;00m\n\u001b[0;32m--> 787\u001b[0m response \u001b[38;5;241m=\u001b[39m \u001b[38;5;28;43mself\u001b[39;49m\u001b[38;5;241;43m.\u001b[39;49m\u001b[43m_make_request\u001b[49m\u001b[43m(\u001b[49m\n\u001b[1;32m    788\u001b[0m \u001b[43m    \u001b[49m\u001b[43mconn\u001b[49m\u001b[43m,\u001b[49m\n\u001b[1;32m    789\u001b[0m \u001b[43m    \u001b[49m\u001b[43mmethod\u001b[49m\u001b[43m,\u001b[49m\n\u001b[1;32m    790\u001b[0m \u001b[43m    \u001b[49m\u001b[43murl\u001b[49m\u001b[43m,\u001b[49m\n\u001b[1;32m    791\u001b[0m \u001b[43m    \u001b[49m\u001b[43mtimeout\u001b[49m\u001b[38;5;241;43m=\u001b[39;49m\u001b[43mtimeout_obj\u001b[49m\u001b[43m,\u001b[49m\n\u001b[1;32m    792\u001b[0m \u001b[43m    \u001b[49m\u001b[43mbody\u001b[49m\u001b[38;5;241;43m=\u001b[39;49m\u001b[43mbody\u001b[49m\u001b[43m,\u001b[49m\n\u001b[1;32m    793\u001b[0m \u001b[43m    \u001b[49m\u001b[43mheaders\u001b[49m\u001b[38;5;241;43m=\u001b[39;49m\u001b[43mheaders\u001b[49m\u001b[43m,\u001b[49m\n\u001b[1;32m    794\u001b[0m \u001b[43m    \u001b[49m\u001b[43mchunked\u001b[49m\u001b[38;5;241;43m=\u001b[39;49m\u001b[43mchunked\u001b[49m\u001b[43m,\u001b[49m\n\u001b[1;32m    795\u001b[0m \u001b[43m    \u001b[49m\u001b[43mretries\u001b[49m\u001b[38;5;241;43m=\u001b[39;49m\u001b[43mretries\u001b[49m\u001b[43m,\u001b[49m\n\u001b[1;32m    796\u001b[0m \u001b[43m    \u001b[49m\u001b[43mresponse_conn\u001b[49m\u001b[38;5;241;43m=\u001b[39;49m\u001b[43mresponse_conn\u001b[49m\u001b[43m,\u001b[49m\n\u001b[1;32m    797\u001b[0m \u001b[43m    \u001b[49m\u001b[43mpreload_content\u001b[49m\u001b[38;5;241;43m=\u001b[39;49m\u001b[43mpreload_content\u001b[49m\u001b[43m,\u001b[49m\n\u001b[1;32m    798\u001b[0m \u001b[43m    \u001b[49m\u001b[43mdecode_content\u001b[49m\u001b[38;5;241;43m=\u001b[39;49m\u001b[43mdecode_content\u001b[49m\u001b[43m,\u001b[49m\n\u001b[1;32m    799\u001b[0m \u001b[43m    \u001b[49m\u001b[38;5;241;43m*\u001b[39;49m\u001b[38;5;241;43m*\u001b[39;49m\u001b[43mresponse_kw\u001b[49m\u001b[43m,\u001b[49m\n\u001b[1;32m    800\u001b[0m \u001b[43m\u001b[49m\u001b[43m)\u001b[49m\n\u001b[1;32m    802\u001b[0m \u001b[38;5;66;03m# Everything went great!\u001b[39;00m\n",
            "File \u001b[0;32m/opt/homebrew/lib/python3.10/site-packages/urllib3/connectionpool.py:536\u001b[0m, in \u001b[0;36mHTTPConnectionPool._make_request\u001b[0;34m(self, conn, method, url, body, headers, retries, timeout, chunked, response_conn, preload_content, decode_content, enforce_content_length)\u001b[0m\n\u001b[1;32m    535\u001b[0m \u001b[38;5;28;01mexcept\u001b[39;00m (BaseSSLError, \u001b[38;5;167;01mOSError\u001b[39;00m) \u001b[38;5;28;01mas\u001b[39;00m e:\n\u001b[0;32m--> 536\u001b[0m     \u001b[38;5;28;43mself\u001b[39;49m\u001b[38;5;241;43m.\u001b[39;49m\u001b[43m_raise_timeout\u001b[49m\u001b[43m(\u001b[49m\u001b[43merr\u001b[49m\u001b[38;5;241;43m=\u001b[39;49m\u001b[43me\u001b[49m\u001b[43m,\u001b[49m\u001b[43m \u001b[49m\u001b[43murl\u001b[49m\u001b[38;5;241;43m=\u001b[39;49m\u001b[43murl\u001b[49m\u001b[43m,\u001b[49m\u001b[43m \u001b[49m\u001b[43mtimeout_value\u001b[49m\u001b[38;5;241;43m=\u001b[39;49m\u001b[43mread_timeout\u001b[49m\u001b[43m)\u001b[49m\n\u001b[1;32m    537\u001b[0m     \u001b[38;5;28;01mraise\u001b[39;00m\n",
            "File \u001b[0;32m/opt/homebrew/lib/python3.10/site-packages/urllib3/connectionpool.py:367\u001b[0m, in \u001b[0;36mHTTPConnectionPool._raise_timeout\u001b[0;34m(self, err, url, timeout_value)\u001b[0m\n\u001b[1;32m    366\u001b[0m \u001b[38;5;28;01mif\u001b[39;00m \u001b[38;5;28misinstance\u001b[39m(err, SocketTimeout):\n\u001b[0;32m--> 367\u001b[0m     \u001b[38;5;28;01mraise\u001b[39;00m ReadTimeoutError(\n\u001b[1;32m    368\u001b[0m         \u001b[38;5;28mself\u001b[39m, url, \u001b[38;5;124mf\u001b[39m\u001b[38;5;124m\"\u001b[39m\u001b[38;5;124mRead timed out. (read timeout=\u001b[39m\u001b[38;5;132;01m{\u001b[39;00mtimeout_value\u001b[38;5;132;01m}\u001b[39;00m\u001b[38;5;124m)\u001b[39m\u001b[38;5;124m\"\u001b[39m\n\u001b[1;32m    369\u001b[0m     ) \u001b[38;5;28;01mfrom\u001b[39;00m\u001b[38;5;250m \u001b[39m\u001b[38;5;21;01merr\u001b[39;00m\n\u001b[1;32m    371\u001b[0m \u001b[38;5;66;03m# See the above comment about EAGAIN in Python 3.\u001b[39;00m\n",
            "\u001b[0;31mReadTimeoutError\u001b[0m: HTTPSConnectionPool(host='mermaid.ink', port=443): Read timed out. (read timeout=10)",
            "\nDuring handling of the above exception, another exception occurred:\n",
            "\u001b[0;31mReadTimeout\u001b[0m                               Traceback (most recent call last)",
            "Cell \u001b[0;32mIn[16], line 29\u001b[0m\n\u001b[1;32m     26\u001b[0m langgraph \u001b[38;5;241m=\u001b[39m langgraph\u001b[38;5;241m.\u001b[39mcompile()\n\u001b[1;32m     28\u001b[0m \u001b[38;5;66;03m# View\u001b[39;00m\n\u001b[0;32m---> 29\u001b[0m display(Image(\u001b[43mlanggraph\u001b[49m\u001b[38;5;241;43m.\u001b[39;49m\u001b[43mget_graph\u001b[49m\u001b[43m(\u001b[49m\u001b[43m)\u001b[49m\u001b[38;5;241;43m.\u001b[39;49m\u001b[43mdraw_mermaid_png\u001b[49m\u001b[43m(\u001b[49m\u001b[43m)\u001b[49m))\n",
            "File \u001b[0;32m/opt/homebrew/lib/python3.10/site-packages/langchain_core/runnables/graph.py:679\u001b[0m, in \u001b[0;36mGraph.draw_mermaid_png\u001b[0;34m(self, curve_style, node_colors, wrap_label_n_words, output_file_path, draw_method, background_color, padding, frontmatter_config)\u001b[0m\n\u001b[1;32m    671\u001b[0m \u001b[38;5;28;01mfrom\u001b[39;00m\u001b[38;5;250m \u001b[39m\u001b[38;5;21;01mlangchain_core\u001b[39;00m\u001b[38;5;21;01m.\u001b[39;00m\u001b[38;5;21;01mrunnables\u001b[39;00m\u001b[38;5;21;01m.\u001b[39;00m\u001b[38;5;21;01mgraph_mermaid\u001b[39;00m\u001b[38;5;250m \u001b[39m\u001b[38;5;28;01mimport\u001b[39;00m draw_mermaid_png\n\u001b[1;32m    673\u001b[0m mermaid_syntax \u001b[38;5;241m=\u001b[39m \u001b[38;5;28mself\u001b[39m\u001b[38;5;241m.\u001b[39mdraw_mermaid(\n\u001b[1;32m    674\u001b[0m     curve_style\u001b[38;5;241m=\u001b[39mcurve_style,\n\u001b[1;32m    675\u001b[0m     node_colors\u001b[38;5;241m=\u001b[39mnode_colors,\n\u001b[1;32m    676\u001b[0m     wrap_label_n_words\u001b[38;5;241m=\u001b[39mwrap_label_n_words,\n\u001b[1;32m    677\u001b[0m     frontmatter_config\u001b[38;5;241m=\u001b[39mfrontmatter_config,\n\u001b[1;32m    678\u001b[0m )\n\u001b[0;32m--> 679\u001b[0m \u001b[38;5;28;01mreturn\u001b[39;00m \u001b[43mdraw_mermaid_png\u001b[49m\u001b[43m(\u001b[49m\n\u001b[1;32m    680\u001b[0m \u001b[43m    \u001b[49m\u001b[43mmermaid_syntax\u001b[49m\u001b[38;5;241;43m=\u001b[39;49m\u001b[43mmermaid_syntax\u001b[49m\u001b[43m,\u001b[49m\n\u001b[1;32m    681\u001b[0m \u001b[43m    \u001b[49m\u001b[43moutput_file_path\u001b[49m\u001b[38;5;241;43m=\u001b[39;49m\u001b[43moutput_file_path\u001b[49m\u001b[43m,\u001b[49m\n\u001b[1;32m    682\u001b[0m \u001b[43m    \u001b[49m\u001b[43mdraw_method\u001b[49m\u001b[38;5;241;43m=\u001b[39;49m\u001b[43mdraw_method\u001b[49m\u001b[43m,\u001b[49m\n\u001b[1;32m    683\u001b[0m \u001b[43m    \u001b[49m\u001b[43mbackground_color\u001b[49m\u001b[38;5;241;43m=\u001b[39;49m\u001b[43mbackground_color\u001b[49m\u001b[43m,\u001b[49m\n\u001b[1;32m    684\u001b[0m \u001b[43m    \u001b[49m\u001b[43mpadding\u001b[49m\u001b[38;5;241;43m=\u001b[39;49m\u001b[43mpadding\u001b[49m\u001b[43m,\u001b[49m\n\u001b[1;32m    685\u001b[0m \u001b[43m\u001b[49m\u001b[43m)\u001b[49m\n",
            "File \u001b[0;32m/opt/homebrew/lib/python3.10/site-packages/langchain_core/runnables/graph_mermaid.py:285\u001b[0m, in \u001b[0;36mdraw_mermaid_png\u001b[0;34m(mermaid_syntax, output_file_path, draw_method, background_color, padding)\u001b[0m\n\u001b[1;32m    279\u001b[0m     img_bytes \u001b[38;5;241m=\u001b[39m asyncio\u001b[38;5;241m.\u001b[39mrun(\n\u001b[1;32m    280\u001b[0m         _render_mermaid_using_pyppeteer(\n\u001b[1;32m    281\u001b[0m             mermaid_syntax, output_file_path, background_color, padding\n\u001b[1;32m    282\u001b[0m         )\n\u001b[1;32m    283\u001b[0m     )\n\u001b[1;32m    284\u001b[0m \u001b[38;5;28;01melif\u001b[39;00m draw_method \u001b[38;5;241m==\u001b[39m MermaidDrawMethod\u001b[38;5;241m.\u001b[39mAPI:\n\u001b[0;32m--> 285\u001b[0m     img_bytes \u001b[38;5;241m=\u001b[39m \u001b[43m_render_mermaid_using_api\u001b[49m\u001b[43m(\u001b[49m\n\u001b[1;32m    286\u001b[0m \u001b[43m        \u001b[49m\u001b[43mmermaid_syntax\u001b[49m\u001b[43m,\u001b[49m\u001b[43m \u001b[49m\u001b[43moutput_file_path\u001b[49m\u001b[43m,\u001b[49m\u001b[43m \u001b[49m\u001b[43mbackground_color\u001b[49m\n\u001b[1;32m    287\u001b[0m \u001b[43m    \u001b[49m\u001b[43m)\u001b[49m\n\u001b[1;32m    288\u001b[0m \u001b[38;5;28;01melse\u001b[39;00m:\n\u001b[1;32m    289\u001b[0m     supported_methods \u001b[38;5;241m=\u001b[39m \u001b[38;5;124m\"\u001b[39m\u001b[38;5;124m, \u001b[39m\u001b[38;5;124m\"\u001b[39m\u001b[38;5;241m.\u001b[39mjoin([m\u001b[38;5;241m.\u001b[39mvalue \u001b[38;5;28;01mfor\u001b[39;00m m \u001b[38;5;129;01min\u001b[39;00m MermaidDrawMethod])\n",
            "File \u001b[0;32m/opt/homebrew/lib/python3.10/site-packages/langchain_core/runnables/graph_mermaid.py:403\u001b[0m, in \u001b[0;36m_render_mermaid_using_api\u001b[0;34m(mermaid_syntax, output_file_path, background_color, file_type)\u001b[0m\n\u001b[1;32m    397\u001b[0m         background_color \u001b[38;5;241m=\u001b[39m \u001b[38;5;124mf\u001b[39m\u001b[38;5;124m\"\u001b[39m\u001b[38;5;124m!\u001b[39m\u001b[38;5;132;01m{\u001b[39;00mbackground_color\u001b[38;5;132;01m}\u001b[39;00m\u001b[38;5;124m\"\u001b[39m\n\u001b[1;32m    399\u001b[0m image_url \u001b[38;5;241m=\u001b[39m (\n\u001b[1;32m    400\u001b[0m     \u001b[38;5;124mf\u001b[39m\u001b[38;5;124m\"\u001b[39m\u001b[38;5;124mhttps://mermaid.ink/img/\u001b[39m\u001b[38;5;132;01m{\u001b[39;00mmermaid_syntax_encoded\u001b[38;5;132;01m}\u001b[39;00m\u001b[38;5;124m\"\u001b[39m\n\u001b[1;32m    401\u001b[0m     \u001b[38;5;124mf\u001b[39m\u001b[38;5;124m\"\u001b[39m\u001b[38;5;124m?type=\u001b[39m\u001b[38;5;132;01m{\u001b[39;00mfile_type\u001b[38;5;132;01m}\u001b[39;00m\u001b[38;5;124m&bgColor=\u001b[39m\u001b[38;5;132;01m{\u001b[39;00mbackground_color\u001b[38;5;132;01m}\u001b[39;00m\u001b[38;5;124m\"\u001b[39m\n\u001b[1;32m    402\u001b[0m )\n\u001b[0;32m--> 403\u001b[0m response \u001b[38;5;241m=\u001b[39m \u001b[43mrequests\u001b[49m\u001b[38;5;241;43m.\u001b[39;49m\u001b[43mget\u001b[49m\u001b[43m(\u001b[49m\u001b[43mimage_url\u001b[49m\u001b[43m,\u001b[49m\u001b[43m \u001b[49m\u001b[43mtimeout\u001b[49m\u001b[38;5;241;43m=\u001b[39;49m\u001b[38;5;241;43m10\u001b[39;49m\u001b[43m)\u001b[49m\n\u001b[1;32m    404\u001b[0m \u001b[38;5;28;01mif\u001b[39;00m response\u001b[38;5;241m.\u001b[39mstatus_code \u001b[38;5;241m==\u001b[39m \u001b[38;5;241m200\u001b[39m:\n\u001b[1;32m    405\u001b[0m     img_bytes \u001b[38;5;241m=\u001b[39m response\u001b[38;5;241m.\u001b[39mcontent\n",
            "File \u001b[0;32m/opt/homebrew/lib/python3.10/site-packages/requests/api.py:73\u001b[0m, in \u001b[0;36mget\u001b[0;34m(url, params, **kwargs)\u001b[0m\n\u001b[1;32m     62\u001b[0m \u001b[38;5;28;01mdef\u001b[39;00m\u001b[38;5;250m \u001b[39m\u001b[38;5;21mget\u001b[39m(url, params\u001b[38;5;241m=\u001b[39m\u001b[38;5;28;01mNone\u001b[39;00m, \u001b[38;5;241m*\u001b[39m\u001b[38;5;241m*\u001b[39mkwargs):\n\u001b[1;32m     63\u001b[0m \u001b[38;5;250m    \u001b[39m\u001b[38;5;124mr\u001b[39m\u001b[38;5;124;03m\"\"\"Sends a GET request.\u001b[39;00m\n\u001b[1;32m     64\u001b[0m \n\u001b[1;32m     65\u001b[0m \u001b[38;5;124;03m    :param url: URL for the new :class:`Request` object.\u001b[39;00m\n\u001b[0;32m   (...)\u001b[0m\n\u001b[1;32m     70\u001b[0m \u001b[38;5;124;03m    :rtype: requests.Response\u001b[39;00m\n\u001b[1;32m     71\u001b[0m \u001b[38;5;124;03m    \"\"\"\u001b[39;00m\n\u001b[0;32m---> 73\u001b[0m     \u001b[38;5;28;01mreturn\u001b[39;00m \u001b[43mrequest\u001b[49m\u001b[43m(\u001b[49m\u001b[38;5;124;43m\"\u001b[39;49m\u001b[38;5;124;43mget\u001b[39;49m\u001b[38;5;124;43m\"\u001b[39;49m\u001b[43m,\u001b[49m\u001b[43m \u001b[49m\u001b[43murl\u001b[49m\u001b[43m,\u001b[49m\u001b[43m \u001b[49m\u001b[43mparams\u001b[49m\u001b[38;5;241;43m=\u001b[39;49m\u001b[43mparams\u001b[49m\u001b[43m,\u001b[49m\u001b[43m \u001b[49m\u001b[38;5;241;43m*\u001b[39;49m\u001b[38;5;241;43m*\u001b[39;49m\u001b[43mkwargs\u001b[49m\u001b[43m)\u001b[49m\n",
            "File \u001b[0;32m/opt/homebrew/lib/python3.10/site-packages/requests/api.py:59\u001b[0m, in \u001b[0;36mrequest\u001b[0;34m(method, url, **kwargs)\u001b[0m\n\u001b[1;32m     55\u001b[0m \u001b[38;5;66;03m# By using the 'with' statement we are sure the session is closed, thus we\u001b[39;00m\n\u001b[1;32m     56\u001b[0m \u001b[38;5;66;03m# avoid leaving sockets open which can trigger a ResourceWarning in some\u001b[39;00m\n\u001b[1;32m     57\u001b[0m \u001b[38;5;66;03m# cases, and look like a memory leak in others.\u001b[39;00m\n\u001b[1;32m     58\u001b[0m \u001b[38;5;28;01mwith\u001b[39;00m sessions\u001b[38;5;241m.\u001b[39mSession() \u001b[38;5;28;01mas\u001b[39;00m session:\n\u001b[0;32m---> 59\u001b[0m     \u001b[38;5;28;01mreturn\u001b[39;00m \u001b[43msession\u001b[49m\u001b[38;5;241;43m.\u001b[39;49m\u001b[43mrequest\u001b[49m\u001b[43m(\u001b[49m\u001b[43mmethod\u001b[49m\u001b[38;5;241;43m=\u001b[39;49m\u001b[43mmethod\u001b[49m\u001b[43m,\u001b[49m\u001b[43m \u001b[49m\u001b[43murl\u001b[49m\u001b[38;5;241;43m=\u001b[39;49m\u001b[43murl\u001b[49m\u001b[43m,\u001b[49m\u001b[43m \u001b[49m\u001b[38;5;241;43m*\u001b[39;49m\u001b[38;5;241;43m*\u001b[39;49m\u001b[43mkwargs\u001b[49m\u001b[43m)\u001b[49m\n",
            "File \u001b[0;32m/opt/homebrew/lib/python3.10/site-packages/requests/sessions.py:589\u001b[0m, in \u001b[0;36mSession.request\u001b[0;34m(self, method, url, params, data, headers, cookies, files, auth, timeout, allow_redirects, proxies, hooks, stream, verify, cert, json)\u001b[0m\n\u001b[1;32m    584\u001b[0m send_kwargs \u001b[38;5;241m=\u001b[39m {\n\u001b[1;32m    585\u001b[0m     \u001b[38;5;124m\"\u001b[39m\u001b[38;5;124mtimeout\u001b[39m\u001b[38;5;124m\"\u001b[39m: timeout,\n\u001b[1;32m    586\u001b[0m     \u001b[38;5;124m\"\u001b[39m\u001b[38;5;124mallow_redirects\u001b[39m\u001b[38;5;124m\"\u001b[39m: allow_redirects,\n\u001b[1;32m    587\u001b[0m }\n\u001b[1;32m    588\u001b[0m send_kwargs\u001b[38;5;241m.\u001b[39mupdate(settings)\n\u001b[0;32m--> 589\u001b[0m resp \u001b[38;5;241m=\u001b[39m \u001b[38;5;28;43mself\u001b[39;49m\u001b[38;5;241;43m.\u001b[39;49m\u001b[43msend\u001b[49m\u001b[43m(\u001b[49m\u001b[43mprep\u001b[49m\u001b[43m,\u001b[49m\u001b[43m \u001b[49m\u001b[38;5;241;43m*\u001b[39;49m\u001b[38;5;241;43m*\u001b[39;49m\u001b[43msend_kwargs\u001b[49m\u001b[43m)\u001b[49m\n\u001b[1;32m    591\u001b[0m \u001b[38;5;28;01mreturn\u001b[39;00m resp\n",
            "File \u001b[0;32m/opt/homebrew/lib/python3.10/site-packages/requests/sessions.py:703\u001b[0m, in \u001b[0;36mSession.send\u001b[0;34m(self, request, **kwargs)\u001b[0m\n\u001b[1;32m    700\u001b[0m start \u001b[38;5;241m=\u001b[39m preferred_clock()\n\u001b[1;32m    702\u001b[0m \u001b[38;5;66;03m# Send the request\u001b[39;00m\n\u001b[0;32m--> 703\u001b[0m r \u001b[38;5;241m=\u001b[39m \u001b[43madapter\u001b[49m\u001b[38;5;241;43m.\u001b[39;49m\u001b[43msend\u001b[49m\u001b[43m(\u001b[49m\u001b[43mrequest\u001b[49m\u001b[43m,\u001b[49m\u001b[43m \u001b[49m\u001b[38;5;241;43m*\u001b[39;49m\u001b[38;5;241;43m*\u001b[39;49m\u001b[43mkwargs\u001b[49m\u001b[43m)\u001b[49m\n\u001b[1;32m    705\u001b[0m \u001b[38;5;66;03m# Total elapsed time of the request (approximately)\u001b[39;00m\n\u001b[1;32m    706\u001b[0m elapsed \u001b[38;5;241m=\u001b[39m preferred_clock() \u001b[38;5;241m-\u001b[39m start\n",
            "File \u001b[0;32m/opt/homebrew/lib/python3.10/site-packages/requests/adapters.py:713\u001b[0m, in \u001b[0;36mHTTPAdapter.send\u001b[0;34m(self, request, stream, timeout, verify, cert, proxies)\u001b[0m\n\u001b[1;32m    711\u001b[0m     \u001b[38;5;28;01mraise\u001b[39;00m SSLError(e, request\u001b[38;5;241m=\u001b[39mrequest)\n\u001b[1;32m    712\u001b[0m \u001b[38;5;28;01melif\u001b[39;00m \u001b[38;5;28misinstance\u001b[39m(e, ReadTimeoutError):\n\u001b[0;32m--> 713\u001b[0m     \u001b[38;5;28;01mraise\u001b[39;00m ReadTimeout(e, request\u001b[38;5;241m=\u001b[39mrequest)\n\u001b[1;32m    714\u001b[0m \u001b[38;5;28;01melif\u001b[39;00m \u001b[38;5;28misinstance\u001b[39m(e, _InvalidHeader):\n\u001b[1;32m    715\u001b[0m     \u001b[38;5;28;01mraise\u001b[39;00m InvalidHeader(e, request\u001b[38;5;241m=\u001b[39mrequest)\n",
            "\u001b[0;31mReadTimeout\u001b[0m: HTTPSConnectionPool(host='mermaid.ink', port=443): Read timed out. (read timeout=10)"
          ]
        }
      ],
      "source": [
        "from IPython.display import Image, display\n",
        "from langgraph.graph import END, START, StateGraph\n",
        "\n",
        "langgraph = StateGraph(OverallState, input=InputState, output=OutputState)\n",
        "langgraph.add_node(guardrails)\n",
        "langgraph.add_node(generate_cypher)\n",
        "langgraph.add_node(validate_cypher)\n",
        "langgraph.add_node(correct_cypher)\n",
        "langgraph.add_node(execute_cypher)\n",
        "langgraph.add_node(generate_final_answer)\n",
        "\n",
        "langgraph.add_edge(START, \"guardrails\")\n",
        "langgraph.add_conditional_edges(\n",
        "    \"guardrails\",\n",
        "    guardrails_condition,\n",
        ")\n",
        "langgraph.add_edge(\"generate_cypher\", \"validate_cypher\")\n",
        "langgraph.add_conditional_edges(\n",
        "    \"validate_cypher\",\n",
        "    validate_cypher_condition,\n",
        ")\n",
        "langgraph.add_edge(\"execute_cypher\", \"generate_final_answer\")\n",
        "langgraph.add_edge(\"correct_cypher\", \"validate_cypher\")\n",
        "langgraph.add_edge(\"generate_final_answer\", END)\n",
        "\n",
        "langgraph = langgraph.compile()\n",
        "\n",
        "# View\n",
        "display(Image(langgraph.get_graph().draw_mermaid_png()))"
      ]
    },
    {
      "cell_type": "markdown",
      "metadata": {
        "id": "tkbbF5h07x2S"
      },
      "source": [
        "We can now test the application by asking an irrelevant question."
      ]
    },
    {
      "cell_type": "code",
      "execution_count": 17,
      "metadata": {
        "id": "WvIcpiWn7x2S",
        "outputId": "42dad8a4-88be-4d61-b07f-348c6801f243"
      },
      "outputs": [
        {
          "data": {
            "text/plain": [
              "{'answer': \"I'm unable to provide current weather information. Please check a reliable weather service for the latest updates on the weather in Spain.\",\n",
              " 'steps': ['guardrail', 'generate_final_answer']}"
            ]
          },
          "execution_count": 17,
          "metadata": {},
          "output_type": "execute_result"
        }
      ],
      "source": [
        "langgraph.invoke({\"question\": \"What's the weather in Spain?\"})"
      ]
    },
    {
      "cell_type": "markdown",
      "metadata": {
        "id": "8Nl2Iol27x2S"
      },
      "source": [
        "Let's now ask something relevant about the movies."
      ]
    },
    {
      "cell_type": "code",
      "execution_count": 18,
      "metadata": {
        "id": "glfUHN1Y7x2S",
        "outputId": "f1d52335-1e11-4258-9f8f-331aca01b8f8"
      },
      "outputs": [
        {
          "data": {
            "text/plain": [
              "{'answer': 'The main cast of the movie \"Casino\" includes Robert De Niro as Sam \"Ace\" Rothstein, Sharon Stone as Ginger McKenna, Joe Pesci as Nicky Santoro, James Woods as Lester Diamond, Don Rickles as Billy Sherbert, and Kevin Pollak as Phillip Green.',\n",
              " 'steps': ['guardrail', 'generate_final_answer']}"
            ]
          },
          "execution_count": 18,
          "metadata": {},
          "output_type": "execute_result"
        }
      ],
      "source": [
        "langgraph.invoke({\"question\": \"What was the cast of the Casino?\"})"
      ]
    },
    {
      "cell_type": "markdown",
      "metadata": {
        "id": "mxFgMkCp7x2S"
      },
      "source": [
        "### Next steps\n",
        "\n",
        "For other graph techniques like this and more check out:\n",
        "\n",
        "* [Semantic layer](/docs/how_to/graph_semantic): Techniques for implementing semantic layers.\n",
        "* [Constructing graphs](/docs/how_to/graph_constructing): Techniques for constructing knowledge graphs."
      ]
    },
    {
      "cell_type": "code",
      "execution_count": null,
      "metadata": {
        "id": "bLjGqT9A7x2S"
      },
      "outputs": [],
      "source": []
    }
  ],
  "metadata": {
    "colab": {
      "provenance": []
    },
    "kernelspec": {
      "display_name": "Python 3",
      "language": "python",
      "name": "python3"
    },
    "language_info": {
      "codemirror_mode": {
        "name": "ipython",
        "version": 3
      },
      "file_extension": ".py",
      "mimetype": "text/x-python",
      "name": "python",
      "nbconvert_exporter": "python",
      "pygments_lexer": "ipython3",
      "version": "3.10.16"
    }
  },
  "nbformat": 4,
  "nbformat_minor": 0
}
