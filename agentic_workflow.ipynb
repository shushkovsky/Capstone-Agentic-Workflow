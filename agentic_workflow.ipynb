{
  "cells": [
    {
      "cell_type": "raw",
      "metadata": {
        "id": "2GVbOy-I7x2F"
      },
      "source": [
        "---\n",
        "sidebar_position: 0\n",
        "---"
      ]
    },
    {
      "cell_type": "markdown",
      "metadata": {
        "id": "7qQ0PVKC7x2H"
      },
      "source": [
        "# Build a Question Answering application over a Graph Database\n",
        "\n",
        "Used this tutorial: https://python.langchain.com/docs/tutorials/graph/\n"
      ]
    },
    {
      "cell_type": "code",
      "execution_count": 1,
      "metadata": {
        "id": "6uuJ8_Q67x2I"
      },
      "outputs": [
        {
          "name": "stdout",
          "output_type": "stream",
          "text": [
            "\n",
            "\u001b[1m[\u001b[0m\u001b[34;49mnotice\u001b[0m\u001b[1;39;49m]\u001b[0m\u001b[39;49m A new release of pip is available: \u001b[0m\u001b[31;49m25.0\u001b[0m\u001b[39;49m -> \u001b[0m\u001b[32;49m25.0.1\u001b[0m\n",
            "\u001b[1m[\u001b[0m\u001b[34;49mnotice\u001b[0m\u001b[1;39;49m]\u001b[0m\u001b[39;49m To update, run: \u001b[0m\u001b[32;49mpython3.10 -m pip install --upgrade pip\u001b[0m\n",
            "Note: you may need to restart the kernel to use updated packages.\n"
          ]
        }
      ],
      "source": [
        "%pip install --upgrade --quiet langchain langchain-neo4j langchain-openai langgraph python-dotenv\n"
      ]
    },
    {
      "cell_type": "markdown",
      "metadata": {
        "id": "-uqyl4Ki7x2L"
      },
      "source": [
        "## Graph schema\n",
        "\n",
        "In order for an LLM to be able to generate a Cypher statement, it needs information about the graph schema. "
      ]
    },
    {
      "cell_type": "code",
      "execution_count": 1,
      "metadata": {},
      "outputs": [
        {
          "name": "stdout",
          "output_type": "stream",
          "text": [
            "Node properties:\n",
            "DISEASE {Disease_ID: STRING, Name: STRING, Description: STRING}\n",
            "MOLECULE {CHEMBL_ID: STRING, Name: STRING, Synonym_Names: STRING, Canonical_Smiles: STRING, Drug_Type: STRING, Description: STRING, embedding: LIST, Cross_Reference_Names: STRING, Max_Clinicial_Trial_Phase: STRING, is_Approved: STRING}\n",
            "TARGET {Target_ID: STRING, Name: STRING, Symbol: STRING, Biological_Type: STRING}\n",
            "Chunk {id: STRING, text: STRING, question: STRING, query: STRING, embedding: LIST}\n",
            "Relationship properties:\n",
            "chemblDrugToTarget {datasourceId: STRING, score: STRING, clinicalPhase: STRING, clinicalStatus: STRING, studyId: STRING, urls: STRING, variantEffect: STRING, directionOnTrait: STRING}\n",
            "Known_Molecule_Link_To_Disease {score: STRING}\n",
            "Known_Molecule_Link_To_Target {score: STRING}\n",
            "cancer_biomarkersDrugToTarget {datasourceId: STRING, score: STRING, literature: STRING, biomarkerName: STRING, confidence: STRING, drugResponse: STRING}\n",
            "chemblDiseaseToTarget {datasourceId: STRING, score: STRING, clinicalPhase: STRING, clinicalStatus: STRING, studyId: STRING, urls: STRING, variantEffect: STRING, directionOnTrait: STRING}\n",
            "cancer_biomarkersDiseaseToTarget {datasourceId: STRING, score: STRING, literature: STRING, biomarkerName: STRING, confidence: STRING, drugResponse: STRING}\n",
            "The relationships:\n",
            "(:DISEASE)-[:chemblDiseaseToTarget]->(:TARGET)\n",
            "(:DISEASE)-[:cancer_biomarkersDiseaseToTarget]->(:TARGET)\n",
            "(:MOLECULE)-[:Known_Molecule_Link_To_Target]->(:TARGET)\n",
            "(:MOLECULE)-[:Known_Molecule_Link_To_Disease]->(:DISEASE)\n",
            "(:MOLECULE)-[:chemblDrugToTarget]->(:TARGET)\n",
            "(:MOLECULE)-[:cancer_biomarkersDrugToTarget]->(:TARGET)\n"
          ]
        }
      ],
      "source": [
        "import getpass\n",
        "import os\n",
        "from dotenv import load_dotenv\n",
        "from langchain_neo4j import Neo4jGraph\n",
        "\n",
        "graph_with_schema = Neo4jGraph(\n",
        "    url=os.getenv(\"NEO4J_URI\"),\n",
        "    username=os.getenv(\"NEO4J_USERNAME\"),\n",
        "    password=os.getenv(\"NEO4J_PASSWORD\"),\n",
        "    enhanced_schema=False\n",
        ")\n",
        "graph_with_schema.refresh_schema()\n",
        "\n",
        "print(graph_with_schema.schema)"
      ]
    },
    {
      "cell_type": "markdown",
      "metadata": {
        "id": "sMTwtWMI7x2M"
      },
      "source": [
        "## Advanced implementation with LangGraph\n",
        "\n",
        "Here is the visualized LangGraph flow we will implement:\n",
        "\n",
        "![langgraph_text2cypher](https://github.com/langchain-ai/langchain/blob/master/docs/static/img/langgraph_text2cypher.webp?raw=1)\n"
      ]
    },
    {
      "cell_type": "code",
      "execution_count": 2,
      "metadata": {},
      "outputs": [],
      "source": [
        "from langchain_openai import ChatOpenAI\n",
        "\n",
        "llm = ChatOpenAI(model=\"gpt-4o\", temperature=0)\n"
      ]
    },
    {
      "cell_type": "markdown",
      "metadata": {
        "id": "mUl5AS6h7x2M"
      },
      "source": [
        "We will begin by defining the Input, Output, and Overall state of the LangGraph application."
      ]
    },
    {
      "cell_type": "code",
      "execution_count": 3,
      "metadata": {
        "id": "58uS9GVC7x2N"
      },
      "outputs": [],
      "source": [
        "from operator import add\n",
        "from typing import Annotated, List\n",
        "\n",
        "from typing_extensions import TypedDict\n",
        "\n",
        "\n",
        "class InputState(TypedDict):\n",
        "    question: str\n",
        "\n",
        "\n",
        "class OverallState(TypedDict):\n",
        "    question: str\n",
        "    next_action: str\n",
        "    cypher_statement: str\n",
        "    cypher_errors: List[str]\n",
        "    database_records: List[dict]\n",
        "    steps: Annotated[List[str], add]\n",
        "\n",
        "\n",
        "class OutputState(TypedDict):\n",
        "    answer: str\n",
        "    steps: List[str]\n",
        "    cypher_statement: str"
      ]
    },
    {
      "cell_type": "markdown",
      "metadata": {
        "id": "18S8Uvta7x2N"
      },
      "source": [
        "The first step is a simple `guardrails` step, where we validate whether the question pertains to genes, drugs, or targets. If it doesn't, we notify the user that we cannot answer any other questions. Otherwise, we move on to the Cypher generation step."
      ]
    },
    {
      "cell_type": "code",
      "execution_count": 4,
      "metadata": {},
      "outputs": [],
      "source": [
        "def reject_question(state: OverallState) -> OutputState:\n",
        "    return {\n",
        "        \"answer\": \"Sorry, I can't answer questions unrelated to genes, drugs, or their targets.\",\n",
        "        \"cypher_statement\": \"\",\n",
        "        \"steps\": state.get(\"steps\", []) + [\"rejected\"],\n",
        "    }"
      ]
    },
    {
      "cell_type": "code",
      "execution_count": 5,
      "metadata": {
        "id": "pm9iT4Ag7x2N"
      },
      "outputs": [],
      "source": [
        "from typing import Literal\n",
        "\n",
        "from langchain_core.prompts import ChatPromptTemplate\n",
        "from pydantic import BaseModel, Field\n",
        "\n",
        "guardrails_system = \"\"\"\n",
        "As an intelligent assistant, your primary objective is to decide whether a given question is related to genes, drugs, and their targets.\n",
        "If the question is related to genes, drugs, and their targets, output \"drug\". Otherwise, output \"end\".\n",
        "To make this decision, assess the content of the question and determine if it refers to any genes, drugs, targets,\n",
        "or related topics. Provide only the specified output: \"drug\" or \"end\".\n",
        "\"\"\"\n",
        "guardrails_prompt = ChatPromptTemplate.from_messages(\n",
        "    [\n",
        "        (\n",
        "            \"system\",\n",
        "            guardrails_system,\n",
        "        ),\n",
        "        (\n",
        "            \"human\",\n",
        "            (\"{question}\"),\n",
        "        ),\n",
        "    ]\n",
        ")\n",
        "\n",
        "\n",
        "class GuardrailsOutput(BaseModel):\n",
        "    decision: Literal[\"drug\", \"end\"] = Field(\n",
        "        description=\"Decision on whether the question is related to genes, drugs, and their targets\"\n",
        "    )\n",
        "\n",
        "\n",
        "guardrails_chain = guardrails_prompt | llm.with_structured_output(GuardrailsOutput)\n",
        "\n",
        "\n",
        "def guardrails(state: InputState) -> OverallState:\n",
        "    \"\"\"\n",
        "    Decides if the question is related to genes, drugs, and their targets or not.\n",
        "    \"\"\"\n",
        "    guardrails_output = guardrails_chain.invoke({\"question\": state.get(\"question\")})\n",
        "    database_records = None\n",
        "    if guardrails_output.decision == \"end\":\n",
        "        database_records = \"This questions is not about genes, drugs, and their targets. Therefore I cannot answer this question.\"\n",
        "    return {\n",
        "        \"next_action\": guardrails_output.decision,\n",
        "        \"database_records\": database_records,\n",
        "        \"steps\": [\"guardrail\"],\n",
        "    }"
      ]
    },
    {
      "cell_type": "markdown",
      "metadata": {
        "id": "g1MPJQKd7x2N"
      },
      "source": [
        "### Few-shot prompting"
      ]
    },
    {
      "cell_type": "markdown",
      "metadata": {
        "id": "QpCHtobV7x2N"
      },
      "source": [
        "Converting natural language into accurate queries is challenging. One way to enhance this process is by providing relevant few-shot examples to guide the LLM in query generation. To achieve this, we will use the `SemanticSimilarityExampleSelector` to dynamically select the most relevant examples."
      ]
    },
    {
      "cell_type": "code",
      "execution_count": 6,
      "metadata": {},
      "outputs": [
        {
          "name": "stdout",
          "output_type": "stream",
          "text": [
            "<class 'list'>\n",
            "14\n"
          ]
        }
      ],
      "source": [
        "from langchain_core.example_selectors import SemanticSimilarityExampleSelector\n",
        "from langchain_neo4j import Neo4jVector\n",
        "from langchain_openai import OpenAIEmbeddings\n",
        "import json \n",
        "with open('few_shot_prompts.json', 'r') as f:\n",
        "    examples = json.load(f)\n",
        "\n",
        "#For future: change k number of examples to use?\n",
        "example_selector = SemanticSimilarityExampleSelector.from_examples(\n",
        "    examples, OpenAIEmbeddings(), Neo4jVector, k=5, input_keys=[\"question\"]\n",
        ")\n",
        "\n",
        "print(type(examples))\n",
        "print(len(examples))"
      ]
    },
    {
      "cell_type": "markdown",
      "metadata": {
        "id": "Cig8-_ZP7x2O"
      },
      "source": [
        "Next, we implement the Cypher generation chain, also known as **text2cypher**. The prompt includes a graph schema, dynamically selected few-shot examples, and the user’s question. This combination enables the generation of a Cypher query to retrieve relevant information from the database."
      ]
    },
    {
      "cell_type": "code",
      "execution_count": 7,
      "metadata": {
        "id": "Pq1FadH_7x2O"
      },
      "outputs": [],
      "source": [
        "from langchain_core.output_parsers import StrOutputParser\n",
        "\n",
        "text2cypher_prompt = ChatPromptTemplate.from_messages(\n",
        "    [\n",
        "        (\n",
        "            \"system\",\n",
        "            (\n",
        "                \"Given an input question, convert it to a Cypher query. No pre-amble.\"\n",
        "                \"Do not wrap the response in any backticks or anything else. Respond with a Cypher statement only!\"\n",
        "            ),\n",
        "        ),\n",
        "        (\n",
        "            \"human\",\n",
        "            (\n",
        "                \"\"\"You are a Neo4j expert. Given an input question, create a syntactically correct Cypher query to run.\n",
        "Do not wrap the response in any backticks or anything else. Respond with a Cypher statement only!\n",
        "Here is the schema information. It is important to know that there is also an 'embedding' property on Molecules that is very useful \n",
        "and part of the schema.\n",
        "{schema}\n",
        "\n",
        "Below are a number of examples of questions and their corresponding Cypher queries. \n",
        "IMPORTANT: When the question asks for similar drugs or similarity search, you MUST use this exact Cypher pattern with the embedding property\n",
        "on MOLECULE nodes:\n",
        "CALL db.index.vector.queryNodes('molEmbed', 10, ref.embedding) \n",
        "\n",
        "{fewshot_examples}\n",
        "\n",
        "User input: {question}\n",
        "Cypher query:\"\"\"\n",
        "            ),\n",
        "        ),\n",
        "    ]\n",
        ")\n",
        "\n",
        "text2cypher_chain = text2cypher_prompt | llm | StrOutputParser()\n",
        "\n",
        "\n",
        "def generate_cypher(state: OverallState) -> OverallState:\n",
        "    \"\"\"\n",
        "    Generates a cypher statement based on the provided schema and user input\n",
        "    \"\"\"\n",
        "    NL = \"\\n\"\n",
        "    fewshot_examples = (NL * 2).join(\n",
        "        [\n",
        "            f\"Question: {el['question']}{NL}Cypher:{el['query']}\"\n",
        "            for el in example_selector.select_examples(\n",
        "                {\"question\": state.get(\"question\")}\n",
        "            )\n",
        "        ]\n",
        "    )\n",
        "    generated_cypher = text2cypher_chain.invoke(\n",
        "        {\n",
        "            \"question\": state.get(\"question\"),\n",
        "            \"fewshot_examples\": fewshot_examples,\n",
        "            \"schema\": graph_with_schema.schema,\n",
        "        }\n",
        "    )\n",
        "    return {\"cypher_statement\": generated_cypher, \"steps\": [\"generate_cypher\"]}"
      ]
    },
    {
      "cell_type": "markdown",
      "metadata": {
        "id": "S1Tsvagh7x2O"
      },
      "source": [
        "### Query validation\n",
        "\n",
        "The next step is to validate the generated Cypher statement and ensuring that all property values are accurate. While numbers and dates typically don’t require validation, strings such as movie titles or people’s names do. In this example, we’ll use a basic `CONTAINS` clause for validation, though more advanced mapping and validation techniques can be implemented if needed.\n",
        "\n",
        "First, we will create a chain that detects any errors in the Cypher statement and extracts the property values it references."
      ]
    },
    {
      "cell_type": "code",
      "execution_count": 8,
      "metadata": {
        "id": "ZHL_qYQS7x2O"
      },
      "outputs": [],
      "source": [
        "from typing import List, Optional\n",
        "\n",
        "validate_cypher_system = \"\"\"\n",
        "You are a Cypher expert reviewing a statement written by a junior developer.\n",
        "\"\"\"\n",
        "\n",
        "validate_cypher_user = \"\"\"You must check the following:\n",
        "* Are there any syntax errors in the Cypher statement?\n",
        "* Are there any missing or undefined variables in the Cypher statement?\n",
        "* Are any node labels missing from the schema?\n",
        "* Are any relationship types missing from the schema?\n",
        "* Are any of the properties not included in the schema?\n",
        "* Does the Cypher statement include enough information to answer the question?\n",
        "\n",
        "Examples of good errors:\n",
        "* Label (:Foo) does not exist, did you mean (:Bar)?\n",
        "* Property bar does not exist for label Foo, did you mean baz?\n",
        "* Relationship FOO does not exist, did you mean FOO_BAR?\n",
        "\n",
        "Schema:\n",
        "{schema}\n",
        "\n",
        "The question is:\n",
        "{question}\n",
        "\n",
        "The Cypher statement is:\n",
        "{cypher}\n",
        "\n",
        "Make sure you don't make any mistakes!\"\"\"\n",
        "\n",
        "validate_cypher_prompt = ChatPromptTemplate.from_messages(\n",
        "    [\n",
        "        (\n",
        "            \"system\",\n",
        "            validate_cypher_system,\n",
        "        ),\n",
        "        (\n",
        "            \"human\",\n",
        "            (validate_cypher_user),\n",
        "        ),\n",
        "    ]\n",
        ")\n",
        "\n",
        "\n",
        "class Property(BaseModel):\n",
        "    \"\"\"\n",
        "    Represents a filter condition based on a specific node property in a graph in a Cypher statement.\n",
        "    \"\"\"\n",
        "\n",
        "    node_label: str = Field(\n",
        "        description=\"The label of the node to which this property belongs.\"\n",
        "    )\n",
        "    property_key: str = Field(description=\"The key of the property being filtered.\")\n",
        "    property_value: str = Field(\n",
        "        description=\"The value that the property is being matched against.\"\n",
        "    )\n",
        "\n",
        "\n",
        "class ValidateCypherOutput(BaseModel):\n",
        "    \"\"\"\n",
        "    Represents the validation result of a Cypher query's output,\n",
        "    including any errors and applied filters.\n",
        "    \"\"\"\n",
        "\n",
        "    errors: Optional[List[str]] = Field(\n",
        "        description=\"A list of syntax or semantical errors in the Cypher statement. Always explain the discrepancy between schema and Cypher statement\"\n",
        "    )\n",
        "    filters: Optional[List[Property]] = Field(\n",
        "        description=\"A list of property-based filters applied in the Cypher statement.\"\n",
        "    )\n",
        "\n",
        "\n",
        "validate_cypher_chain = validate_cypher_prompt | llm.with_structured_output(\n",
        "    ValidateCypherOutput\n",
        ")"
      ]
    },
    {
      "cell_type": "markdown",
      "metadata": {
        "id": "AwNFfQlm7x2O"
      },
      "source": [
        "LLMs often struggle with correctly determining relationship directions in generated Cypher statements. Since we have access to the schema, we can deterministically correct these directions using the **CypherQueryCorrector**.\n",
        "\n",
        "*Note: The `CypherQueryCorrector` is an experimental feature and doesn't support all the newest Cypher syntax.*"
      ]
    },
    {
      "cell_type": "code",
      "execution_count": 9,
      "metadata": {
        "id": "wsAchHSE7x2O"
      },
      "outputs": [],
      "source": [
        "from langchain_neo4j.chains.graph_qa.cypher_utils import CypherQueryCorrector, Schema\n",
        "\n",
        "# Cypher query corrector is experimental\n",
        "corrector_schema = [\n",
        "    Schema(el[\"start\"], el[\"type\"], el[\"end\"])\n",
        "    for el in graph_with_schema.structured_schema.get(\"relationships\")\n",
        "]\n",
        "cypher_query_corrector = CypherQueryCorrector(corrector_schema)"
      ]
    },
    {
      "cell_type": "markdown",
      "metadata": {
        "id": "rtb2zFa57x2P"
      },
      "source": [
        "Now we can implement the Cypher validation step. First, we use the `EXPLAIN` method to detect any syntax errors. Next, we leverage the LLM to identify potential issues and extract the properties used for filtering. For string properties, we validate them against the database using a simple `CONTAINS` clause.\n",
        "\n",
        "Based on the validation results, the process can take the following paths:\n",
        "\n",
        "- If value mapping fails, we end the conversation and inform the user that we couldn't identify a specific property value (e.g., a person or movie title).  \n",
        "- If errors are found, we route the query for correction.  \n",
        "- If no issues are detected, we proceed to the Cypher execution step.  "
      ]
    },
    {
      "cell_type": "code",
      "execution_count": 10,
      "metadata": {
        "id": "c8ug-Aa-7x2P"
      },
      "outputs": [],
      "source": [
        "from neo4j.exceptions import CypherSyntaxError\n",
        "\n",
        "\n",
        "def validate_cypher(state: OverallState) -> OverallState:\n",
        "    \"\"\"\n",
        "    Validates the Cypher statements and maps any property values to the database.\n",
        "    \"\"\"\n",
        "    errors = []\n",
        "    mapping_errors = []\n",
        "    # Check for syntax errors\n",
        "    try:\n",
        "        graph_with_schema.query(f\"EXPLAIN {state.get('cypher_statement')}\")\n",
        "    except CypherSyntaxError as e:\n",
        "        errors.append(e.message)\n",
        "    # Experimental feature for correcting relationship directions\n",
        "    corrected_cypher = cypher_query_corrector(state.get(\"cypher_statement\"))\n",
        "    if not corrected_cypher:\n",
        "        errors.append(\"The generated Cypher statement doesn't fit the graph schema\")\n",
        "    if not corrected_cypher == state.get(\"cypher_statement\"):\n",
        "        print(\"Relationship direction was corrected\")\n",
        "    # Use LLM to find additional potential errors and get the mapping for values\n",
        "    llm_output = validate_cypher_chain.invoke(\n",
        "        {\n",
        "            \"question\": state.get(\"question\"),\n",
        "            \"schema\": graph_with_schema.schema,\n",
        "            \"cypher\": state.get(\"cypher_statement\"),\n",
        "        }\n",
        "    )\n",
        "    if llm_output.errors:\n",
        "        errors.extend(llm_output.errors)\n",
        "    if llm_output.filters:\n",
        "        for filter in llm_output.filters:\n",
        "            # Do mapping only for string values\n",
        "            if (\n",
        "                not [\n",
        "                    prop\n",
        "                    for prop in graph_with_schema.structured_schema[\"node_props\"][\n",
        "                        filter.node_label\n",
        "                    ]\n",
        "                    if prop[\"property\"] == filter.property_key\n",
        "                ][0][\"type\"]\n",
        "                == \"STRING\"\n",
        "            ):\n",
        "                continue\n",
        "            mapping = graph_with_schema.query(\n",
        "                f\"MATCH (n:{filter.node_label}) WHERE toLower(n.`{filter.property_key}`) = toLower($value) RETURN 'yes' LIMIT 1\",\n",
        "                {\"value\": filter.property_value},\n",
        "            )\n",
        "            if not mapping:\n",
        "                print(\n",
        "                    f\"Missing value mapping for {filter.node_label} on property {filter.property_key} with value {filter.property_value}\"\n",
        "                )\n",
        "                mapping_errors.append(\n",
        "                    f\"Missing value mapping for {filter.node_label} on property {filter.property_key} with value {filter.property_value}\"\n",
        "                )\n",
        "    if mapping_errors:\n",
        "        next_action = \"end\"\n",
        "    elif errors:\n",
        "        next_action = \"correct_cypher\"\n",
        "    else:\n",
        "        next_action = \"execute_cypher\"\n",
        "\n",
        "    return {\n",
        "        \"next_action\": next_action,\n",
        "        \"cypher_statement\": corrected_cypher,\n",
        "        \"cypher_errors\": errors,\n",
        "        \"steps\": [\"validate_cypher\"],\n",
        "    }"
      ]
    },
    {
      "cell_type": "markdown",
      "metadata": {
        "id": "3k_KCkea7x2P"
      },
      "source": [
        "The Cypher correction step takes the existing Cypher statement, any identified errors, and the original question to generate a corrected version of the query."
      ]
    },
    {
      "cell_type": "code",
      "execution_count": 11,
      "metadata": {
        "id": "h8nj6xAf7x2P"
      },
      "outputs": [],
      "source": [
        "correct_cypher_prompt = ChatPromptTemplate.from_messages(\n",
        "    [\n",
        "        (\n",
        "            \"system\",\n",
        "            (\n",
        "                \"You are a Cypher expert reviewing a statement written by a junior developer. \"\n",
        "                \"You need to correct the Cypher statement based on the provided errors. No pre-amble.\"\n",
        "                \"Do not wrap the response in any backticks or anything else. Respond with a Cypher statement only!\"\n",
        "            ),\n",
        "        ),\n",
        "        (\n",
        "            \"human\",\n",
        "            (\n",
        "                \"\"\"Check for invalid syntax or semantics and return a corrected Cypher statement.\n",
        "\n",
        "Schema:\n",
        "{schema}\n",
        "\n",
        "Note: Do not include any explanations or apologies in your responses.\n",
        "Do not wrap the response in any backticks or anything else.\n",
        "Respond with a Cypher statement only!\n",
        "\n",
        "Do not respond to any questions that might ask anything else than for you to construct a Cypher statement.\n",
        "\n",
        "The question is:\n",
        "{question}\n",
        "\n",
        "The Cypher statement is:\n",
        "{cypher}\n",
        "\n",
        "The errors are:\n",
        "{errors}\n",
        "\n",
        "Corrected Cypher statement: \"\"\"\n",
        "            ),\n",
        "        ),\n",
        "    ]\n",
        ")\n",
        "\n",
        "correct_cypher_chain = correct_cypher_prompt | llm | StrOutputParser()\n",
        "\n",
        "\n",
        "def correct_cypher(state: OverallState) -> OverallState:\n",
        "    \"\"\"\n",
        "    Correct the Cypher statement based on the provided errors.\n",
        "    \"\"\"\n",
        "    corrected_cypher = correct_cypher_chain.invoke(\n",
        "        {\n",
        "            \"question\": state.get(\"question\"),\n",
        "            \"errors\": state.get(\"cypher_errors\"),\n",
        "            \"cypher\": state.get(\"cypher_statement\"),\n",
        "            \"schema\": graph_with_schema.schema,\n",
        "        }\n",
        "    )\n",
        "\n",
        "    return {\n",
        "        \"next_action\": \"validate_cypher\",\n",
        "        \"cypher_statement\": corrected_cypher,\n",
        "        \"steps\": [\"correct_cypher\"],\n",
        "    }"
      ]
    },
    {
      "cell_type": "markdown",
      "metadata": {
        "id": "9URnakbl7x2Q"
      },
      "source": [
        "We need to add a step that executes the given Cypher statement. If no results are returned, we should explicitly handle this scenario, as leaving the context empty can sometimes lead to LLM hallucinations."
      ]
    },
    {
      "cell_type": "code",
      "execution_count": 12,
      "metadata": {
        "id": "3Q4n7gWL7x2Q"
      },
      "outputs": [],
      "source": [
        "no_results = \"I couldn't find any relevant information in the database\"\n",
        "\n",
        "\n",
        "def execute_cypher(state: OverallState) -> OverallState:\n",
        "    \"\"\"\n",
        "    Executes the given Cypher statement.\n",
        "    \"\"\"\n",
        "    print(\"Cypher to run:\", state.get(\"cypher_statement\"))\n",
        "    records = graph_with_schema.query(state.get(\"cypher_statement\"))\n",
        "    return {\n",
        "        \"database_records\": records if records else no_results,\n",
        "        \"next_action\": \"end\",\n",
        "        \"steps\": [\"execute_cypher\"],\n",
        "    }"
      ]
    },
    {
      "cell_type": "markdown",
      "metadata": {
        "id": "oP_fOn4T7x2Q"
      },
      "source": [
        "The final step is to generate the answer. This involves combining the initial question with the database output to produce a relevant response."
      ]
    },
    {
      "cell_type": "code",
      "execution_count": 13,
      "metadata": {
        "id": "Qe-bcdLc7x2Q"
      },
      "outputs": [],
      "source": [
        "generate_final_prompt = ChatPromptTemplate.from_messages(\n",
        "    [\n",
        "        (\n",
        "            \"system\",\n",
        "            \"You are a helpful assistant\",\n",
        "        ),\n",
        "        (\n",
        "            \"human\",\n",
        "            (\n",
        "                \"\"\"Use the following results retrieved from a database to provide\n",
        "a succinct, definitive answer to the user's question.\n",
        "\n",
        "Respond as if you are answering the question directly.\n",
        "\n",
        "Results: {results}\n",
        "Question: {question}\"\"\"\n",
        "            ),\n",
        "        ),\n",
        "    ]\n",
        ")\n",
        "\n",
        "generate_final_chain = generate_final_prompt | llm | StrOutputParser()\n",
        "\n",
        "\n",
        "def generate_final_answer(state: OverallState) -> OutputState:\n",
        "    \"\"\"\n",
        "    Decides if the question is related to genes, drugs, or their targets.\n",
        "    \"\"\"\n",
        "    final_answer = generate_final_chain.invoke(\n",
        "        {\"question\": state.get(\"question\"), \"results\": state.get(\"database_records\")}\n",
        "    )\n",
        "    return {\"answer\": final_answer, \"steps\": [\"generate_final_answer\"]}"
      ]
    },
    {
      "cell_type": "markdown",
      "metadata": {
        "id": "9snNvED-7x2R"
      },
      "source": [
        "Next, we will implement the LangGraph workflow, starting with defining the conditional edge functions."
      ]
    },
    {
      "cell_type": "code",
      "execution_count": 14,
      "metadata": {
        "id": "Fm7koU_X7x2R"
      },
      "outputs": [],
      "source": [
        "def guardrails_condition(\n",
        "    state: OverallState,\n",
        ") -> Literal[\"generate_cypher\", \"reject_question\"]:\n",
        "    if state.get(\"next_action\") == \"end\":\n",
        "        return \"reject_question\"\n",
        "    elif state.get(\"next_action\") == \"drug\":\n",
        "        return \"generate_cypher\"\n",
        "\n",
        "\n",
        "def validate_cypher_condition(\n",
        "    state: OverallState,\n",
        ") -> Literal[\"generate_final_answer\", \"correct_cypher\", \"execute_cypher\"]:\n",
        "    if state.get(\"next_action\") == \"end\":\n",
        "        return \"generate_final_answer\"\n",
        "    elif state.get(\"next_action\") == \"correct_cypher\":\n",
        "        return \"correct_cypher\"\n",
        "    elif state.get(\"next_action\") == \"execute_cypher\":\n",
        "        return \"execute_cypher\""
      ]
    },
    {
      "cell_type": "markdown",
      "metadata": {
        "id": "zIaoUaZH7x2R"
      },
      "source": [
        "Let's put it all together now."
      ]
    },
    {
      "cell_type": "code",
      "execution_count": 15,
      "metadata": {
        "id": "NQ9Eaq0v7x2R",
        "outputId": "baecbee0-cb8a-415d-b863-ab13c31e9706"
      },
      "outputs": [
        {
          "data": {
            "image/png": "[encoded data removed]",
            "text/plain": [
              "<IPython.core.display.Image object>"
            ]
          },
          "metadata": {},
          "output_type": "display_data"
        }
      ],
      "source": [
        "from IPython.display import Image, display\n",
        "from langgraph.graph import END, START, StateGraph\n",
        "\n",
        "langgraph = StateGraph(OverallState, input=InputState, output=OutputState)\n",
        "langgraph.add_node(guardrails)\n",
        "langgraph.add_node(generate_cypher)\n",
        "langgraph.add_node(\"reject_question\", reject_question)\n",
        "langgraph.add_node(validate_cypher)\n",
        "langgraph.add_node(correct_cypher)\n",
        "langgraph.add_node(execute_cypher)\n",
        "langgraph.add_node(generate_final_answer)\n",
        "\n",
        "langgraph.add_edge(START, \"guardrails\")\n",
        "langgraph.add_conditional_edges(\n",
        "    \"guardrails\",\n",
        "    guardrails_condition,\n",
        ")\n",
        "langgraph.add_edge(\"generate_cypher\", \"validate_cypher\")\n",
        "langgraph.add_conditional_edges(\n",
        "    \"validate_cypher\",\n",
        "    validate_cypher_condition,\n",
        ")\n",
        "langgraph.add_edge(\"execute_cypher\", \"generate_final_answer\")\n",
        "langgraph.add_edge(\"correct_cypher\", \"validate_cypher\")\n",
        "langgraph.add_edge(\"generate_final_answer\", END)\n",
        "langgraph.add_edge(\"reject_question\", END)\n",
        "\n",
        "\n",
        "langgraph = langgraph.compile()\n",
        "\n",
        "# View\n",
        "display(Image(langgraph.get_graph().draw_mermaid_png()))"
      ]
    },
    {
      "cell_type": "markdown",
      "metadata": {
        "id": "tkbbF5h07x2S"
      },
      "source": [
        "We can now test the application by asking an irrelevant question."
      ]
    },
    {
      "cell_type": "code",
      "execution_count": 65,
      "metadata": {
        "id": "glfUHN1Y7x2S",
        "outputId": "f1d52335-1e11-4258-9f8f-331aca01b8f8"
      },
      "outputs": [
        {
          "data": {
            "text/plain": [
              "{'answer': \"Sorry, I can't answer questions unrelated to genes, drugs, or their targets.\",\n",
              " 'steps': ['guardrail', 'guardrail', 'rejected'],\n",
              " 'cypher_statement': ''}"
            ]
          },
          "execution_count": 65,
          "metadata": {},
          "output_type": "execute_result"
        }
      ],
      "source": [
        "langgraph.invoke({\"question\": \"What was the cast of the Casino?\"})"
      ]
    },
    {
      "cell_type": "code",
      "execution_count": 101,
      "metadata": {},
      "outputs": [
        {
          "name": "stdout",
          "output_type": "stream",
          "text": [
            "Cypher to run: MATCH (cet:MOLECULE {Name: 'CETIRIZINE'})-[r1:chemblDrugToTarget|cancer_biomarkersDrugToTarget]->(t:TARGET)<-[r2:chemblDrugToTarget|cancer_biomarkersDrugToTarget]-(top10:MOLECULE) \n",
            "WHERE cet <> top10 \n",
            "WITH t, top10, r2.score AS ActivityScore \n",
            "ORDER BY ActivityScore DESC \n",
            "LIMIT 10 \n",
            "RETURN top10.Name AS Drug, t.Name AS Target, ActivityScore\n"
          ]
        },
        {
          "data": {
            "text/plain": [
              "{'answer': 'The top 10 drugs with activity at the same target as CETIRIZINE, which is the histamine receptor H1, are FEXOFENADINE, RUPATADINE, AZATADINE, MIZOLASTINE, ORPHENADRINE, HISTAMINE, HYDROXYZINE, CARBINOXAMINE, TRIPROLIDINE, and LORATADINE.',\n",
              " 'steps': ['guardrail',\n",
              "  'generate_cypher',\n",
              "  'validate_cypher',\n",
              "  'execute_cypher',\n",
              "  'generate_final_answer'],\n",
              " 'cypher_statement': \"MATCH (cet:MOLECULE {Name: 'CETIRIZINE'})-[r1:chemblDrugToTarget|cancer_biomarkersDrugToTarget]->(t:TARGET)<-[r2:chemblDrugToTarget|cancer_biomarkersDrugToTarget]-(top10:MOLECULE) \\nWHERE cet <> top10 \\nWITH t, top10, r2.score AS ActivityScore \\nORDER BY ActivityScore DESC \\nLIMIT 10 \\nRETURN top10.Name AS Drug, t.Name AS Target, ActivityScore\"}"
            ]
          },
          "execution_count": 101,
          "metadata": {},
          "output_type": "execute_result"
        }
      ],
      "source": [
        "langgraph.invoke({\"question\": \"Find the top 10 drugs with activity at the same target as CETIRIZINE\"})"
      ]
    },
    {
      "cell_type": "code",
      "execution_count": null,
      "metadata": {},
      "outputs": [],
      "source": [
        "def pretty_print_answer(answer_dict):\n",
        "    from IPython.display import Markdown, display\n",
        "    \n",
        "    answer = answer_dict.get(\"answer\", \"\")\n",
        "    answer_md = answer.replace('\\n', '  \\n') \n",
        "    display(Markdown(answer_md))\n"
      ]
    },
    {
      "cell_type": "code",
      "execution_count": 18,
      "metadata": {},
      "outputs": [
        {
          "name": "stdout",
          "output_type": "stream",
          "text": [
            "Cypher to run: MATCH (ref:MOLECULE {Name: 'CETIRIZINE'}) CALL db.index.vector.queryNodes('molEmbed', 10, ref.embedding) YIELD node AS molecule, score RETURN molecule.Name AS Drug, score AS Similarity ORDER BY Similarity DESC LIMIT 10\n"
          ]
        },
        {
          "data": {
            "text/markdown": [
              "The top 10 most similar drugs to Cetirizine are:  \n",
              "  \n",
              "1. Levocetirizine  \n",
              "2. Cetirizine  \n",
              "3. Levocetirizine Dihydrochloride  \n",
              "4. Cetirizine Hydrochloride  \n",
              "5. Bepotastine  \n",
              "6. Pipamperone  \n",
              "7. Axelopran  \n",
              "8. Vilanterol  \n",
              "9. Efinaconazole  \n",
              "10. Mefenamic Acid"
            ],
            "text/plain": [
              "<IPython.core.display.Markdown object>"
            ]
          },
          "metadata": {},
          "output_type": "display_data"
        }
      ],
      "source": [
        "pretty_print_answer(langgraph.invoke({\"question\": \"Find the top 10 most similar drugs to Cetirizine\"}))"
      ]
    },
    {
      "cell_type": "code",
      "execution_count": 19,
      "metadata": {},
      "outputs": [
        {
          "name": "stderr",
          "output_type": "stream",
          "text": [
            "Received notification from DBMS server: {severity: WARNING} {code: Neo.ClientNotification.Statement.FeatureDeprecationWarning} {category: DEPRECATION} {title: This feature is deprecated and will be removed in future versions.} {description: CALL subquery without a variable scope clause is now deprecated. Use CALL (top10) { ... }} {position: line: 6, column: 1, offset: 290} for query: \"EXPLAIN MATCH (cet:MOLECULE {Name: 'CETIRIZINE'})-[r1:chemblDrugToTarget|cancer_biomarkersDrugToTarget]->(t:TARGET)<-[r2:chemblDrugToTarget|cancer_biomarkersDrugToTarget]-(top10:MOLECULE) \\nWHERE cet <> top10 \\nWITH t, top10, r2.score AS ActivityScore \\nORDER BY ActivityScore DESC \\nLIMIT 10 \\nCALL { \\n  WITH top10 \\n  CALL db.index.vector.queryNodes('molEmbed', 5, top10.embedding) \\n  YIELD node AS similar, score \\n  RETURN similar.Name AS Similar_Drug, score AS Similarity \\n} \\nRETURN top10.Name AS Original_Drug, t.Name AS Target, ActivityScore, collect(Similar_Drug) AS Similar_Drugs\"\n",
            "Received notification from DBMS server: {severity: WARNING} {code: Neo.ClientNotification.Statement.FeatureDeprecationWarning} {category: DEPRECATION} {title: This feature is deprecated and will be removed in future versions.} {description: CALL subquery without a variable scope clause is now deprecated. Use CALL (top10) { ... }} {position: line: 6, column: 1, offset: 282} for query: \"MATCH (cet:MOLECULE {Name: 'CETIRIZINE'})-[r1:chemblDrugToTarget|cancer_biomarkersDrugToTarget]->(t:TARGET)<-[r2:chemblDrugToTarget|cancer_biomarkersDrugToTarget]-(top10:MOLECULE) \\nWHERE cet <> top10 \\nWITH t, top10, r2.score AS ActivityScore \\nORDER BY ActivityScore DESC \\nLIMIT 10 \\nCALL { \\n  WITH top10 \\n  CALL db.index.vector.queryNodes('molEmbed', 5, top10.embedding) \\n  YIELD node AS similar, score \\n  RETURN similar.Name AS Similar_Drug, score AS Similarity \\n} \\nRETURN top10.Name AS Original_Drug, t.Name AS Target, ActivityScore, collect(Similar_Drug) AS Similar_Drugs\"\n"
          ]
        },
        {
          "name": "stdout",
          "output_type": "stream",
          "text": [
            "Cypher to run: MATCH (cet:MOLECULE {Name: 'CETIRIZINE'})-[r1:chemblDrugToTarget|cancer_biomarkersDrugToTarget]->(t:TARGET)<-[r2:chemblDrugToTarget|cancer_biomarkersDrugToTarget]-(top10:MOLECULE) \n",
            "WHERE cet <> top10 \n",
            "WITH t, top10, r2.score AS ActivityScore \n",
            "ORDER BY ActivityScore DESC \n",
            "LIMIT 10 \n",
            "CALL { \n",
            "  WITH top10 \n",
            "  CALL db.index.vector.queryNodes('molEmbed', 5, top10.embedding) \n",
            "  YIELD node AS similar, score \n",
            "  RETURN similar.Name AS Similar_Drug, score AS Similarity \n",
            "} \n",
            "RETURN top10.Name AS Original_Drug, t.Name AS Target, ActivityScore, collect(Similar_Drug) AS Similar_Drugs\n"
          ]
        },
        {
          "data": {
            "text/markdown": [
              "The top 10 drugs with activity at the same target (histamine receptor H1) as CETIRIZINE are:  \n",
              "  \n",
              "1. FEXOFENADINE  \n",
              "   - Similar drugs: FEXOFENADINE, FEXOFENADINE HYDROCHLORIDE, HALOPERIDOL LACTATE, BENACTYZINE, TROSPIUM  \n",
              "  \n",
              "2. RUPATADINE  \n",
              "   - Similar drugs: RUPATADINE, DESLORATADINE, CHLOROQUINE HYDROCHLORIDE, CHLOROQUINE, HYDROXYCHLOROQUINE  \n",
              "  \n",
              "3. AZATADINE  \n",
              "   - Similar drugs: AZATADINE, DESLORATADINE, MIANSERIN, BROMPERIDOL, HALOPERIDOL  \n",
              "  \n",
              "4. MIZOLASTINE  \n",
              "   - Similar drugs: MIZOLASTINE, CHEMBL3526617, CHEMBL3526476, SAR-260301, RIVOCERANIB  \n",
              "  \n",
              "5. ORPHENADRINE  \n",
              "   - Similar drugs: ORPHENADRINE, DIPHENHYDRAMINE HYDROCHLORIDE, DIPHENHYDRAMINE METHYLBROMIDE, DIPHENHYDRAMINE, DIPHENYLPYRALINE HYDROCHLORIDE  \n",
              "  \n",
              "6. HISTAMINE  \n",
              "   - Similar drugs: BETAZOLE, CALYSTEGINE B2, CHEMBL1230309, CHEMBL1235255, CHEMBL1232586  \n",
              "  \n",
              "7. HYDROXYZINE  \n",
              "   - Similar drugs: HYDROXYZINE, HYDROXYZINE HYDROCHLORIDE, BIPERIDEN, MK-0812, DOXAPRAM  \n",
              "  \n",
              "8. CARBINOXAMINE  \n",
              "   - Similar drugs: CARBINOXAMINE, PHENIRAMINE, LEVOPROPOXYPHENE, PROPOXYPHENE, DA-8031  \n",
              "  \n",
              "9. TRIPROLIDINE  \n",
              "   - Similar drugs: TRIPROLIDINE, METYRAPONE, CLEMASTINE FUMARATE, CHEMBL3041160, SUPROFEN  \n",
              "  \n",
              "10. LORATADINE  \n",
              "    - Similar drugs: LORATADINE, FENPIPRANE, DEMEXIPTILINE, TANESPIMYCIN, CHEMBL1083185"
            ],
            "text/plain": [
              "<IPython.core.display.Markdown object>"
            ]
          },
          "metadata": {},
          "output_type": "display_data"
        }
      ],
      "source": [
        "pretty_print_answer(langgraph.invoke({\"question\": \"Find the top 10 drugs with activity at the same target as CETIRIZINE, then identify 5 similar drugs to each of those 10\"}))"
      ]
    }
  ],
  "metadata": {
    "colab": {
      "provenance": []
    },
    "kernelspec": {
      "display_name": "Python 3",
      "language": "python",
      "name": "python3"
    },
    "language_info": {
      "codemirror_mode": {
        "name": "ipython",
        "version": 3
      },
      "file_extension": ".py",
      "mimetype": "text/x-python",
      "name": "python",
      "nbconvert_exporter": "python",
      "pygments_lexer": "ipython3",
      "version": "3.10.16"
    }
  },
  "nbformat": 4,
  "nbformat_minor": 0
}
